{
 "cells": [
  {
   "cell_type": "markdown",
   "metadata": {
    "id": "F4NkGrLIj-vj"
   },
   "source": [
    "# Gesture Recognition Case Study\n",
    "\n",
    "### Team Members:\n",
    "### Aman Shah\n",
    "### Saravanan S E"
   ]
  },
  {
   "cell_type": "code",
   "execution_count": 1,
   "metadata": {
    "id": "oNm2pXIUTcvE",
    "outputId": "f13c91d3-e8e2-45cf-f691-c871ab99f730"
   },
   "outputs": [
    {
     "data": {
      "text/plain": [
       "'/device:GPU:0'"
      ]
     },
     "execution_count": 1,
     "metadata": {},
     "output_type": "execute_result"
    }
   ],
   "source": [
    "import tensorflow as tf\n",
    "tf.test.gpu_device_name()"
   ]
  },
  {
   "cell_type": "code",
   "execution_count": 2,
   "metadata": {
    "id": "4sHcCk7Sj-vz"
   },
   "outputs": [],
   "source": [
    "# Import required libraries\n",
    "import numpy as np\n",
    "import os\n",
    "import cv2\n",
    "import datetime\n",
    "import os\n",
    "from PIL import Image\n",
    "import pathlib\n",
    "import tensorflow as tf\n",
    "import matplotlib.pyplot as plt\n",
    "import numpy as np\n",
    "import pandas as pd\n",
    "import os\n",
    "import PIL\n",
    "from tensorflow import keras\n",
    "from tensorflow.keras import layers\n",
    "from tensorflow.keras.models import Sequential\n",
    "from glob import glob\n",
    "from keras.models import Sequential, Model\n",
    "from keras.layers import Dense, GRU, Flatten, TimeDistributed, Flatten, BatchNormalization, Activation, Dropout, LSTM\n",
    "from keras.layers.convolutional import Conv3D, MaxPooling3D, Conv2D, MaxPooling2D\n",
    "from keras.applications import MobileNet, MobileNetV2\n",
    "from tensorflow.keras import layers\n",
    "from keras.callbacks import ModelCheckpoint, ReduceLROnPlateau\n",
    "from keras import optimizers\n",
    "from keras.layers.recurrent import GRU"
   ]
  },
  {
   "cell_type": "markdown",
   "metadata": {
    "id": "pFP4oTPAj-v1"
   },
   "source": [
    "We set the random seed so that the results don't vary drastically."
   ]
  },
  {
   "cell_type": "code",
   "execution_count": 3,
   "metadata": {
    "id": "X6ZMtalOj-v1"
   },
   "outputs": [],
   "source": [
    "np.random.seed(30)\n",
    "import random as rn\n",
    "rn.seed(30)\n",
    "import keras\n",
    "from keras import backend as K\n",
    "import tensorflow as tf\n",
    "tf.random.set_seed(30)"
   ]
  },
  {
   "cell_type": "markdown",
   "metadata": {
    "id": "XyrY-rYWj-v2"
   },
   "source": [
    "In this block, you read the folder names for training and validation. You also set the `batch_size` here. Note that you set the batch size in such a way that you are able to use the GPU in full capacity. You keep increasing the batch size until the machine throws an error."
   ]
  },
  {
   "cell_type": "code",
   "execution_count": 4,
   "metadata": {
    "id": "Cd8alS3cj-v3"
   },
   "outputs": [],
   "source": [
    "train_doc = np.random.permutation(open('../input/project1/Project_data/train.csv').readlines())\n",
    "val_doc = np.random.permutation(open('../input/project1/Project_data/val.csv').readlines())"
   ]
  },
  {
   "cell_type": "code",
   "execution_count": 5,
   "metadata": {
    "id": "GwCwRQGVqpZx"
   },
   "outputs": [],
   "source": [
    "# Defining the parameters\n",
    "img_height = 120\n",
    "img_width = 120\n",
    "batch_size = 50\n",
    "num_epochs = 20\n",
    "channel = 3\n",
    "img_select = 2\n",
    "lr = 0.001\n",
    "lr_reduce_factor = 0.5"
   ]
  },
  {
   "cell_type": "markdown",
   "metadata": {
    "id": "dc_PzDCDj-v4"
   },
   "source": [
    "# Generator 1\n",
    "This is one of the most important part of the code. The overall structure of the generator has been given. In the generator, you are going to preprocess the images as you have images of 2 different dimensions as well as create a batch of video frames. You have to experiment with `img_idx`, `y`,`z` and normalization such that you get high accuracy."
   ]
  },
  {
   "cell_type": "code",
   "execution_count": 6,
   "metadata": {
    "id": "vGe5Ngzgj-v5"
   },
   "outputs": [],
   "source": [
    "# The image is cropped and then resize in this generator\n",
    "def generator_crop_resize(source_path, folder_list, batch_size):\n",
    "    print( 'Source path = ', source_path, '; batch size =', batch_size)\n",
    "    img_idx = [X for X in range(0,30,img_select)]\n",
    "    while True:\n",
    "        t = np.random.permutation(folder_list)\n",
    "        num_batches = len(folder_list)//batch_size\n",
    "        for batch in range(num_batches): # we iterate over the number of batches\n",
    "            batch_data = np.zeros((batch_size,len(img_idx),img_height,img_width,3)) # x is the number of images you use for each video, (y,z) is the final size of the input images and 3 is the number of channels RGB\n",
    "            batch_labels = np.zeros((batch_size,5)) # batch_labels is the one hot representation of the output\n",
    "            for folder in range(batch_size): # iterate over the batch_size\n",
    "                imgs = os.listdir(source_path+'/'+ t[folder + (batch*batch_size)].split(';')[0]) # read all the images in the folder\n",
    "                for idx,item in enumerate(img_idx): #  Iterate iver the frames/images of a folder to read them in\n",
    "                    image = cv2.imread(source_path+'/'+ t[folder + (batch*batch_size)].strip().split(';')[0]+'/'+imgs[item]).astype(np.float32)\n",
    "                    \n",
    "                    #crop the images and resize them. Note that the images are of 2 different shape \n",
    "                    #and the conv3D will throw error if the inputs in a batch have different shapes\n",
    "                    if image.shape[0] != image.shape[1]:\n",
    "                      image = image[0:120,20:140]\n",
    "                    image_size_change = cv2.resize(image,(img_width,img_height),interpolation=cv2.INTER_AREA)\n",
    "        \n",
    "                    batch_data[folder,idx,:,:,0] = (image_size_change[:,:,0])/255\n",
    "                    batch_data[folder,idx,:,:,1] = (image_size_change[:,:,1])/255\n",
    "                    batch_data[folder,idx,:,:,2] = (image_size_change[:,:,2])/255\n",
    "                    \n",
    "                batch_labels[folder, int(t[folder + (batch*batch_size)].strip().split(';')[2])] = 1\n",
    "            yield batch_data, batch_labels #you yield the batch_data and the batch_labels, remember what does yield do\n",
    " \n",
    "        # write the code for the remaining data points which are left after full batches\n",
    "        if (len(folder_list) != batch_size*num_batches):\n",
    "          batch_size = len(folder_list) - (batch_size*num_batches)\n",
    "          batch_data = np.zeros((batch_size,len(img_idx),img_height,img_width,3)) # x is the number of images you use for each video, (y,z) is the final size of the input images and 3 is the number of channels RGB\n",
    "          batch_labels = np.zeros((batch_size,5)) # batch_labels is the one hot representation of the output\n",
    "          for folder in range(batch_size): # iterate over the batch_size\n",
    "              imgs = os.listdir(source_path+'/'+ t[folder + (batch*batch_size)].split(';')[0]) # read all the images in the folder\n",
    "              for idx,item in enumerate(img_idx): #  Iterate iver the frames/images of a folder to read them in\n",
    "                  image = cv2.imread(source_path+'/'+ t[folder + (batch*batch_size)].strip().split(';')[0]+'/'+imgs[item]).astype(np.float32)\n",
    "\n",
    "                  #crop the images and resize them. Note that the images are of 2 different shape \n",
    "                  #and the conv3D will throw error if the inputs in a batch have different shapes\n",
    "                  if image.shape[0] != image.shape[1]:\n",
    "                    image = image[0:120,20:140]\n",
    "                  image_size_change = cv2.resize(image,(img_width,img_height),interpolation=cv2.INTER_AREA)\n",
    "\n",
    "                  batch_data[folder,idx,:,:,0] = (image_size_change[:,:,0])/255\n",
    "                  batch_data[folder,idx,:,:,1] = (image_size_change[:,:,1])/255\n",
    "                  batch_data[folder,idx,:,:,2] = (image_size_change[:,:,2])/255\n",
    "                    \n",
    "              batch_labels[folder, int(t[folder + (batch*batch_size)].strip().split(';')[2])] = 1\n",
    "          yield batch_data, batch_labels #you yield the batch_data and the batch_labels, remember what does yield do\n"
   ]
  },
  {
   "cell_type": "markdown",
   "metadata": {
    "id": "TpeqvHuMCWus"
   },
   "source": [
    "# Generator 2"
   ]
  },
  {
   "cell_type": "code",
   "execution_count": 7,
   "metadata": {
    "id": "0EEfBrFI_0zO"
   },
   "outputs": [],
   "source": [
    "# Image is only resize in this generator\n",
    "def generator_resize(source_path, folder_list, batch_size):\n",
    "    print( 'Source path = ', source_path, '; batch size =', batch_size)\n",
    "    img_idx = [X for X in range(0,30,img_select)]\n",
    "    while True:\n",
    "        t = np.random.permutation(folder_list)\n",
    "        num_batches = len(folder_list)//batch_size\n",
    "        for batch in range(num_batches): # we iterate over the number of batches\n",
    "            batch_data = np.zeros((batch_size,len(img_idx),img_height,img_width,3)) # x is the number of images you use for each video, (y,z) is the final size of the input images and 3 is the number of channels RGB\n",
    "            batch_labels = np.zeros((batch_size,5)) # batch_labels is the one hot representation of the output\n",
    "            for folder in range(batch_size): # iterate over the batch_size\n",
    "                imgs = os.listdir(source_path+'/'+ t[folder + (batch*batch_size)].split(';')[0]) # read all the images in the folder\n",
    "                for idx,item in enumerate(img_idx): #  Iterate iver the frames/images of a folder to read them in\n",
    "                    image = cv2.imread(source_path+'/'+ t[folder + (batch*batch_size)].strip().split(';')[0]+'/'+imgs[item]).astype(np.float32)\n",
    "                    \n",
    "                    #resize images. Note that the images are of 2 different shape \n",
    "                    #and the conv3D will throw error if the inputs in a batch have different shapes\n",
    "                    image_size_change = cv2.resize(image,(img_width,img_height),interpolation=cv2.INTER_AREA)\n",
    "        \n",
    "                    batch_data[folder,idx,:,:,0] = (image_size_change[:,:,0])/255\n",
    "                    batch_data[folder,idx,:,:,1] = (image_size_change[:,:,1])/255\n",
    "                    batch_data[folder,idx,:,:,2] = (image_size_change[:,:,2])/255\n",
    "                    \n",
    "                batch_labels[folder, int(t[folder + (batch*batch_size)].strip().split(';')[2])] = 1\n",
    "            yield batch_data, batch_labels #you yield the batch_data and the batch_labels, remember what does yield do\n",
    " \n",
    "        # write the code for the remaining data points which are left after full batches\n",
    "        if (len(folder_list) != batch_size*num_batches):\n",
    "          batch_size = len(folder_list) - (batch_size*num_batches)\n",
    "          batch_data = np.zeros((batch_size,len(img_idx),img_height,img_width,3)) # x is the number of images you use for each video, (y,z) is the final size of the input images and 3 is the number of channels RGB\n",
    "          batch_labels = np.zeros((batch_size,5)) # batch_labels is the one hot representation of the output\n",
    "          for folder in range(batch_size): # iterate over the batch_size\n",
    "              imgs = os.listdir(source_path+'/'+ t[folder + (batch*batch_size)].split(';')[0]) # read all the images in the folder\n",
    "              for idx,item in enumerate(img_idx): #  Iterate iver the frames/images of a folder to read them in\n",
    "                  image = cv2.imread(source_path+'/'+ t[folder + (batch*batch_size)].strip().split(';')[0]+'/'+imgs[item]).astype(np.float32)\n",
    "\n",
    "                    #resize images. Note that the images are of 2 different shape \n",
    "                    #and the conv3D will throw error if the inputs in a batch have different shapes\n",
    "                  image_size_change = cv2.resize(image,(img_width,img_height),interpolation=cv2.INTER_AREA)\n",
    "\n",
    "                  batch_data[folder,idx,:,:,0] = (image_size_change[:,:,0])/255\n",
    "                  batch_data[folder,idx,:,:,1] = (image_size_change[:,:,1])/255\n",
    "                  batch_data[folder,idx,:,:,2] = (image_size_change[:,:,2])/255\n",
    "                    \n",
    "              batch_labels[folder, int(t[folder + (batch*batch_size)].strip().split(';')[2])] = 1\n",
    "          yield batch_data, batch_labels #you yield the batch_data and the batch_labels, remember what does yield do\n"
   ]
  },
  {
   "cell_type": "markdown",
   "metadata": {
    "id": "Vj3di6hSj-v6"
   },
   "source": [
    "Note here that a video is represented above in the generator as (number of images, height, width, number of channels). Take this into consideration while creating the model architecture."
   ]
  },
  {
   "cell_type": "code",
   "execution_count": 8,
   "metadata": {
    "id": "FQBKWknaj-v7",
    "outputId": "2bb2d910-2f6a-4b04-a9d3-38bdb8ff03da"
   },
   "outputs": [
    {
     "name": "stdout",
     "output_type": "stream",
     "text": [
      "# training sequences = 663\n",
      "# validation sequences = 100\n",
      "# epochs = 20\n"
     ]
    }
   ],
   "source": [
    "curr_dt_time = datetime.datetime.now()\n",
    "train_path = '../input/project1/Project_data/train'\n",
    "val_path = '../input/project1/Project_data/val'\n",
    "num_train_sequences = len(train_doc)\n",
    "print('# training sequences =', num_train_sequences)\n",
    "num_val_sequences = len(val_doc)\n",
    "print('# validation sequences =', num_val_sequences)\n",
    "print ('# epochs =', num_epochs)"
   ]
  },
  {
   "cell_type": "markdown",
   "metadata": {
    "id": "Wx5kDRzYj-v9"
   },
   "source": [
    "Now that you have written the model, the next step is to `compile` the model. When you print the `summary` of the model, you'll see the total number of parameters you have to train."
   ]
  },
  {
   "cell_type": "markdown",
   "metadata": {
    "id": "vyi1cYpNj-v_"
   },
   "source": [
    "Let us create the `train_generator` and the `val_generator` which will be used in `.fit_generator`."
   ]
  },
  {
   "cell_type": "code",
   "execution_count": 9,
   "metadata": {
    "id": "N_PkJqpYj-wA",
    "outputId": "a06df3ee-df79-4402-d69f-31a3fd0c0624"
   },
   "outputs": [],
   "source": [
    "model_name = 'model_init' + '_' + str(curr_dt_time).replace(' ','').replace(':','_') + '/'\n",
    "    \n",
    "if not os.path.exists(model_name):\n",
    "    os.mkdir(model_name)\n",
    "        \n",
    "filepath = model_name + 'model-{epoch:05d}-{loss:.5f}-{categorical_accuracy:.5f}-{val_loss:.5f}-{val_categorical_accuracy:.5f}.h5'\n",
    "\n",
    "checkpoint = ModelCheckpoint(filepath, monitor='val_loss', verbose=1, save_best_only=False, save_weights_only=False, mode='auto', period=1)\n",
    "\n",
    "LR = ReduceLROnPlateau(monitor='val_loss', factor=lr_reduce_factor, patience=2, cooldown=1, verbose=1)\n",
    "callbacks_list = [checkpoint, LR]"
   ]
  },
  {
   "cell_type": "markdown",
   "metadata": {
    "id": "Qm-jL0j_j-wA"
   },
   "source": [
    "The `steps_per_epoch` and `validation_steps` are used by `fit_generator` to decide the number of next() calls it need to make."
   ]
  },
  {
   "cell_type": "code",
   "execution_count": 10,
   "metadata": {
    "id": "Cg1RQgnKj-wB"
   },
   "outputs": [],
   "source": [
    "if (num_train_sequences%batch_size) == 0:\n",
    "    steps_per_epoch = int(num_train_sequences/batch_size)\n",
    "else:\n",
    "    steps_per_epoch = (num_train_sequences//batch_size) + 1\n",
    "\n",
    "if (num_val_sequences%batch_size) == 0:\n",
    "    validation_steps = int(num_val_sequences/batch_size)\n",
    "else:\n",
    "    validation_steps = (num_val_sequences//batch_size) + 1"
   ]
  },
  {
   "cell_type": "markdown",
   "metadata": {
    "id": "dMNnTFNDA0U0"
   },
   "source": [
    "# Model 1 - Convolutional Neural Nework\n",
    "Here you make the model using different functionalities that Keras provides. Remember to use `Conv3D` and `MaxPooling3D` and not `Conv2D` and `Maxpooling2D` for a 3D convolution model. You would want to use `TimeDistributed` while building a Conv2D + RNN model. Also remember that the last layer is the softmax. Design the network in such a way that the model is able to give good accuracy on the least number of parameters so that it can fit in the memory of the webcam."
   ]
  },
  {
   "cell_type": "code",
   "execution_count": 11,
   "metadata": {
    "id": "fiOIi1sGAWuF"
   },
   "outputs": [],
   "source": [
    "# Define the model\n",
    "model_1 = Sequential()\n",
    "model_1.add(Conv3D(16, kernel_size=(3,3,3), input_shape=(30//img_select,img_width,img_height,channel),padding='same'))\n",
    "model_1.add(Activation('relu'))\n",
    "model_1.add(MaxPooling3D(pool_size=(2, 2, 2)))\n",
    "model_1.add(Conv3D(32, kernel_size=(3,3,3), padding='same'))\n",
    "model_1.add(Activation('relu'))\n",
    "model_1.add(MaxPooling3D(pool_size=(2, 2, 2)))\n",
    "model_1.add(Conv3D(64, kernel_size=(3,3,3), padding='same'))\n",
    "model_1.add(Activation('relu'))\n",
    "model_1.add(MaxPooling3D(pool_size=(2, 2, 2)))\n",
    "model_1.add(Dropout(0.25))\n",
    "model_1.add(Flatten())\n",
    "model_1.add(Dense(128,activation='relu'))\n",
    "model_1.add(Dense(5,activation='softmax')) "
   ]
  },
  {
   "cell_type": "markdown",
   "metadata": {
    "id": "C-DuLIMfmRkw"
   },
   "source": [
    "## Experiment 1\n",
    "#### Model = model_1\n",
    "#### Type = Convolutional Neural Network\n",
    "#### Optimizer = Adam\n",
    "#### num_epochs = 20\n",
    "#### batch_size = 50\n",
    "#### Generator = generator_crop_resize"
   ]
  },
  {
   "cell_type": "code",
   "execution_count": 12,
   "metadata": {
    "id": "Dksh9SstAdty"
   },
   "outputs": [],
   "source": [
    "train_generator = generator_crop_resize(train_path, train_doc, batch_size)\n",
    "val_generator = generator_crop_resize(val_path, val_doc, batch_size)"
   ]
  },
  {
   "cell_type": "markdown",
   "metadata": {
    "id": "9GroxW7VA_D6"
   },
   "source": [
    "Now that you have written the model, the next step is to `compile` the model. When you print the `summary` of the model, you'll see the total number of parameters you have to train."
   ]
  },
  {
   "cell_type": "code",
   "execution_count": 13,
   "metadata": {
    "id": "z1Jq7E_6AjtL"
   },
   "outputs": [],
   "source": [
    "# Model compile\n",
    "opt = keras.optimizers.Adam(learning_rate=lr)\n",
    "model_1.compile(optimizer=opt, loss='categorical_crossentropy', metrics=['categorical_accuracy'])"
   ]
  },
  {
   "cell_type": "markdown",
   "metadata": {
    "id": "3c_nVXKHj-wC"
   },
   "source": [
    "Let us now fit the model. This will start training the model and with the help of the checkpoints, you'll be able to save the model at the end of each epoch."
   ]
  },
  {
   "cell_type": "code",
   "execution_count": 14,
   "metadata": {
    "id": "TRxXzEoTj-wC",
    "outputId": "5726d0d1-b79f-4584-f5ae-e089ac98ba09"
   },
   "outputs": [
    {
     "name": "stdout",
     "output_type": "stream",
     "text": [
      "Source path =  ../input/project1/Project_data/train ; batch size = 50\n",
      "Epoch 1/20\n",
      "14/14 [==============================] - ETA: 0s - loss: 1.8053 - categorical_accuracy: 0.2010Source path =  ../input/project1/Project_data/val ; batch size = 50\n",
      "14/14 [==============================] - 102s 8s/step - loss: 1.7978 - categorical_accuracy: 0.2010 - val_loss: 1.5257 - val_categorical_accuracy: 0.2300\n",
      "\n",
      "Epoch 00001: saving model to model_init_2021-03-0722_23_02.408022/model-00001-1.69248-0.20060-1.52568-0.23000.h5\n",
      "Epoch 2/20\n",
      "14/14 [==============================] - 19s 1s/step - loss: 1.4860 - categorical_accuracy: 0.2529 - val_loss: 1.5871 - val_categorical_accuracy: 0.3400\n",
      "\n",
      "Epoch 00002: saving model to model_init_2021-03-0722_23_02.408022/model-00002-1.51549-0.25275-1.58707-0.34000.h5\n",
      "Epoch 3/20\n",
      "14/14 [==============================] - 20s 2s/step - loss: 1.5617 - categorical_accuracy: 0.3024 - val_loss: 1.3901 - val_categorical_accuracy: 0.3300\n",
      "\n",
      "Epoch 00003: saving model to model_init_2021-03-0722_23_02.408022/model-00003-1.54014-0.30769-1.39014-0.33000.h5\n",
      "Epoch 4/20\n",
      "14/14 [==============================] - 19s 1s/step - loss: 1.4998 - categorical_accuracy: 0.2751 - val_loss: 1.3687 - val_categorical_accuracy: 0.4100\n",
      "\n",
      "Epoch 00004: saving model to model_init_2021-03-0722_23_02.408022/model-00004-1.48735-0.31319-1.36866-0.41000.h5\n",
      "Epoch 5/20\n",
      "14/14 [==============================] - 19s 1s/step - loss: 1.3501 - categorical_accuracy: 0.4297 - val_loss: 1.1676 - val_categorical_accuracy: 0.5400\n",
      "\n",
      "Epoch 00005: saving model to model_init_2021-03-0722_23_02.408022/model-00005-1.31857-0.40110-1.16757-0.54000.h5\n",
      "Epoch 6/20\n",
      "14/14 [==============================] - 20s 2s/step - loss: 1.1399 - categorical_accuracy: 0.5069 - val_loss: 1.2436 - val_categorical_accuracy: 0.4800\n",
      "\n",
      "Epoch 00006: saving model to model_init_2021-03-0722_23_02.408022/model-00006-1.18115-0.48901-1.24364-0.48000.h5\n",
      "Epoch 7/20\n",
      "14/14 [==============================] - 19s 1s/step - loss: 1.2213 - categorical_accuracy: 0.4813 - val_loss: 1.2223 - val_categorical_accuracy: 0.4700\n",
      "\n",
      "Epoch 00007: saving model to model_init_2021-03-0722_23_02.408022/model-00007-1.23560-0.43407-1.22228-0.47000.h5\n",
      "\n",
      "Epoch 00007: ReduceLROnPlateau reducing learning rate to 0.0005000000237487257.\n",
      "Epoch 8/20\n",
      "14/14 [==============================] - 19s 1s/step - loss: 1.1331 - categorical_accuracy: 0.5012 - val_loss: 1.0413 - val_categorical_accuracy: 0.5700\n",
      "\n",
      "Epoch 00008: saving model to model_init_2021-03-0722_23_02.408022/model-00008-1.18026-0.45055-1.04125-0.57000.h5\n",
      "Epoch 9/20\n",
      "14/14 [==============================] - 19s 1s/step - loss: 1.1298 - categorical_accuracy: 0.4912 - val_loss: 1.0885 - val_categorical_accuracy: 0.5300\n",
      "\n",
      "Epoch 00009: saving model to model_init_2021-03-0722_23_02.408022/model-00009-1.18167-0.49451-1.08851-0.53000.h5\n",
      "Epoch 10/20\n",
      "14/14 [==============================] - 19s 1s/step - loss: 0.9197 - categorical_accuracy: 0.5892 - val_loss: 1.0030 - val_categorical_accuracy: 0.6100\n",
      "\n",
      "Epoch 00010: saving model to model_init_2021-03-0722_23_02.408022/model-00010-0.89326-0.61538-1.00298-0.61000.h5\n",
      "Epoch 11/20\n",
      "14/14 [==============================] - 19s 1s/step - loss: 0.9637 - categorical_accuracy: 0.5880 - val_loss: 1.0434 - val_categorical_accuracy: 0.5300\n",
      "\n",
      "Epoch 00011: saving model to model_init_2021-03-0722_23_02.408022/model-00011-0.94318-0.61538-1.04336-0.53000.h5\n",
      "Epoch 12/20\n",
      "14/14 [==============================] - 19s 1s/step - loss: 1.0867 - categorical_accuracy: 0.5642 - val_loss: 0.9268 - val_categorical_accuracy: 0.6300\n",
      "\n",
      "Epoch 00012: saving model to model_init_2021-03-0722_23_02.408022/model-00012-1.01838-0.58242-0.92682-0.63000.h5\n",
      "Epoch 13/20\n",
      "14/14 [==============================] - 19s 1s/step - loss: 0.8413 - categorical_accuracy: 0.6054 - val_loss: 0.9445 - val_categorical_accuracy: 0.6300\n",
      "\n",
      "Epoch 00013: saving model to model_init_2021-03-0722_23_02.408022/model-00013-0.80759-0.65934-0.94448-0.63000.h5\n",
      "Epoch 14/20\n",
      "14/14 [==============================] - 18s 1s/step - loss: 0.8190 - categorical_accuracy: 0.7143 - val_loss: 0.9237 - val_categorical_accuracy: 0.6400\n",
      "\n",
      "Epoch 00014: saving model to model_init_2021-03-0722_23_02.408022/model-00014-0.90878-0.66484-0.92365-0.64000.h5\n",
      "Epoch 15/20\n",
      "14/14 [==============================] - 19s 1s/step - loss: 0.7254 - categorical_accuracy: 0.7136 - val_loss: 0.8140 - val_categorical_accuracy: 0.7000\n",
      "\n",
      "Epoch 00015: saving model to model_init_2021-03-0722_23_02.408022/model-00015-0.73808-0.70879-0.81402-0.70000.h5\n",
      "Epoch 16/20\n",
      "14/14 [==============================] - 19s 1s/step - loss: 0.7121 - categorical_accuracy: 0.7651 - val_loss: 0.8447 - val_categorical_accuracy: 0.6200\n",
      "\n",
      "Epoch 00016: saving model to model_init_2021-03-0722_23_02.408022/model-00016-0.66496-0.76923-0.84472-0.62000.h5\n",
      "Epoch 17/20\n",
      "14/14 [==============================] - 19s 1s/step - loss: 0.6372 - categorical_accuracy: 0.7227 - val_loss: 0.9273 - val_categorical_accuracy: 0.6500\n",
      "\n",
      "Epoch 00017: saving model to model_init_2021-03-0722_23_02.408022/model-00017-0.71324-0.70879-0.92731-0.65000.h5\n",
      "\n",
      "Epoch 00017: ReduceLROnPlateau reducing learning rate to 0.0002500000118743628.\n",
      "Epoch 18/20\n",
      "14/14 [==============================] - 19s 1s/step - loss: 0.7469 - categorical_accuracy: 0.7611 - val_loss: 0.7866 - val_categorical_accuracy: 0.6500\n",
      "\n",
      "Epoch 00018: saving model to model_init_2021-03-0722_23_02.408022/model-00018-0.68659-0.76374-0.78663-0.65000.h5\n",
      "Epoch 19/20\n",
      "14/14 [==============================] - 19s 1s/step - loss: 0.5585 - categorical_accuracy: 0.7738 - val_loss: 0.8204 - val_categorical_accuracy: 0.7200\n",
      "\n",
      "Epoch 00019: saving model to model_init_2021-03-0722_23_02.408022/model-00019-0.59796-0.76923-0.82039-0.72000.h5\n",
      "Epoch 20/20\n",
      "14/14 [==============================] - 19s 1s/step - loss: 0.6349 - categorical_accuracy: 0.7365 - val_loss: 0.7175 - val_categorical_accuracy: 0.7300\n",
      "\n",
      "Epoch 00020: saving model to model_init_2021-03-0722_23_02.408022/model-00020-0.54307-0.79670-0.71752-0.73000.h5\n"
     ]
    }
   ],
   "source": [
    "# Model fit\n",
    "history = model_1.fit(train_generator, steps_per_epoch=steps_per_epoch, epochs=num_epochs, verbose=1, \n",
    "                    callbacks=callbacks_list, validation_data=val_generator, \n",
    "                    validation_steps=validation_steps, class_weight=None, workers=1, initial_epoch=0)"
   ]
  },
  {
   "cell_type": "code",
   "execution_count": 15,
   "metadata": {
    "id": "nAXonmgAj-wC",
    "outputId": "f5c0b0b4-1c6f-4721-aaf6-703d1de8b5cd"
   },
   "outputs": [
    {
     "name": "stdout",
     "output_type": "stream",
     "text": [
      "Model: \"sequential\"\n",
      "_________________________________________________________________\n",
      "Layer (type)                 Output Shape              Param #   \n",
      "=================================================================\n",
      "conv3d (Conv3D)              (None, 15, 120, 120, 16)  1312      \n",
      "_________________________________________________________________\n",
      "activation (Activation)      (None, 15, 120, 120, 16)  0         \n",
      "_________________________________________________________________\n",
      "max_pooling3d (MaxPooling3D) (None, 7, 60, 60, 16)     0         \n",
      "_________________________________________________________________\n",
      "conv3d_1 (Conv3D)            (None, 7, 60, 60, 32)     13856     \n",
      "_________________________________________________________________\n",
      "activation_1 (Activation)    (None, 7, 60, 60, 32)     0         \n",
      "_________________________________________________________________\n",
      "max_pooling3d_1 (MaxPooling3 (None, 3, 30, 30, 32)     0         \n",
      "_________________________________________________________________\n",
      "conv3d_2 (Conv3D)            (None, 3, 30, 30, 64)     55360     \n",
      "_________________________________________________________________\n",
      "activation_2 (Activation)    (None, 3, 30, 30, 64)     0         \n",
      "_________________________________________________________________\n",
      "max_pooling3d_2 (MaxPooling3 (None, 1, 15, 15, 64)     0         \n",
      "_________________________________________________________________\n",
      "dropout (Dropout)            (None, 1, 15, 15, 64)     0         \n",
      "_________________________________________________________________\n",
      "flatten (Flatten)            (None, 14400)             0         \n",
      "_________________________________________________________________\n",
      "dense (Dense)                (None, 128)               1843328   \n",
      "_________________________________________________________________\n",
      "dense_1 (Dense)              (None, 5)                 645       \n",
      "=================================================================\n",
      "Total params: 1,914,501\n",
      "Trainable params: 1,914,501\n",
      "Non-trainable params: 0\n",
      "_________________________________________________________________\n",
      "None\n"
     ]
    }
   ],
   "source": [
    "# Model summary\n",
    "print (model_1.summary())"
   ]
  },
  {
   "cell_type": "code",
   "execution_count": 16,
   "metadata": {
    "id": "sjqE9ZoyVtF-",
    "outputId": "4a1a876a-05c8-41a1-aa7c-cae4a883c621"
   },
   "outputs": [
    {
     "data": {
      "image/png": "[encoded data removed]",
      "text/plain": [
       "<Figure size 576x576 with 2 Axes>"
      ]
     },
     "metadata": {
      "needs_background": "light"
     },
     "output_type": "display_data"
    }
   ],
   "source": [
    "# Visualize the Model\n",
    "acc = history.history['categorical_accuracy']\n",
    "val_acc = history.history['val_categorical_accuracy']\n",
    "\n",
    "loss = history.history['loss']\n",
    "val_loss = history.history['val_loss']\n",
    "\n",
    "epochs_range = range(num_epochs)\n",
    "\n",
    "plt.figure(figsize=(8, 8))\n",
    "plt.subplot(1, 2, 1)\n",
    "plt.plot(epochs_range, acc, label='Training Categorical Accuracy')\n",
    "plt.plot(epochs_range, val_acc, label='Validation Categorical Accuracy')\n",
    "plt.legend(loc='lower right')\n",
    "plt.title('Training and Validation Accuracy')\n",
    "\n",
    "plt.subplot(1, 2, 2)\n",
    "plt.plot(epochs_range, loss, label='Training Loss')\n",
    "plt.plot(epochs_range, val_loss, label='Validation Loss')\n",
    "plt.legend(loc='upper right')\n",
    "plt.title('Training and Validation Loss')\n",
    "plt.show()"
   ]
  },
  {
   "cell_type": "markdown",
   "metadata": {
    "id": "2L1b_aT-mktU"
   },
   "source": [
    "## Experiment 2\n",
    "#### Model = model_1\n",
    "#### Type = Convolutional Neural Network\n",
    "#### Optimizer = Adam\n",
    "#### num_epochs = 20\n",
    "#### batch_size = 50\n",
    "#### Generator = generator_resize"
   ]
  },
  {
   "cell_type": "code",
   "execution_count": 17,
   "metadata": {
    "id": "fxK1GisaBdg-"
   },
   "outputs": [],
   "source": [
    "train_generator = generator_resize(train_path, train_doc, batch_size)\n",
    "val_generator = generator_resize(val_path, val_doc, batch_size)"
   ]
  },
  {
   "cell_type": "code",
   "execution_count": 18,
   "metadata": {
    "id": "V_NADhn7mjxC"
   },
   "outputs": [],
   "source": [
    "# Model compile\n",
    "opt = keras.optimizers.Adam(learning_rate=lr)\n",
    "model_1.compile(optimizer=opt, loss='categorical_crossentropy', metrics=['categorical_accuracy'])"
   ]
  },
  {
   "cell_type": "code",
   "execution_count": 19,
   "metadata": {
    "id": "ujuSdQIjBeXj",
    "outputId": "339c32e2-f0e5-4218-acd4-423c31ed9fa5"
   },
   "outputs": [
    {
     "name": "stdout",
     "output_type": "stream",
     "text": [
      "Source path =  ../input/project1/Project_data/train ; batch size = 50\n",
      "Epoch 1/20\n",
      "14/14 [==============================] - ETA: 0s - loss: 0.7271 - categorical_accuracy: 0.7301Source path =  ../input/project1/Project_data/val ; batch size = 50\n",
      "14/14 [==============================] - 45s 3s/step - loss: 0.7264 - categorical_accuracy: 0.7295 - val_loss: 0.8784 - val_categorical_accuracy: 0.6600\n",
      "\n",
      "Epoch 00001: saving model to model_init_2021-03-0722_23_02.408022/model-00001-0.71634-0.72097-0.87837-0.66000.h5\n",
      "Epoch 2/20\n",
      "14/14 [==============================] - 20s 2s/step - loss: 0.6606 - categorical_accuracy: 0.7533 - val_loss: 0.9424 - val_categorical_accuracy: 0.5700\n",
      "\n",
      "Epoch 00002: saving model to model_init_2021-03-0722_23_02.408022/model-00002-0.65618-0.73077-0.94239-0.57000.h5\n",
      "Epoch 3/20\n",
      "14/14 [==============================] - 20s 2s/step - loss: 0.5981 - categorical_accuracy: 0.7600 - val_loss: 0.8161 - val_categorical_accuracy: 0.7100\n",
      "\n",
      "Epoch 00003: saving model to model_init_2021-03-0722_23_02.408022/model-00003-0.61880-0.75824-0.81606-0.71000.h5\n",
      "Epoch 4/20\n",
      "14/14 [==============================] - 19s 1s/step - loss: 0.7263 - categorical_accuracy: 0.7296 - val_loss: 1.0100 - val_categorical_accuracy: 0.5900\n",
      "\n",
      "Epoch 00004: saving model to model_init_2021-03-0722_23_02.408022/model-00004-0.68968-0.73077-1.00997-0.59000.h5\n",
      "Epoch 5/20\n",
      "14/14 [==============================] - 19s 1s/step - loss: 0.4780 - categorical_accuracy: 0.8010 - val_loss: 1.0687 - val_categorical_accuracy: 0.5900\n",
      "\n",
      "Epoch 00005: saving model to model_init_2021-03-0722_23_02.408022/model-00005-0.48104-0.81319-1.06871-0.59000.h5\n",
      "\n",
      "Epoch 00005: ReduceLROnPlateau reducing learning rate to 0.0005000000237487257.\n",
      "Epoch 6/20\n",
      "14/14 [==============================] - 20s 2s/step - loss: 0.5429 - categorical_accuracy: 0.8022 - val_loss: 0.8489 - val_categorical_accuracy: 0.6600\n",
      "\n",
      "Epoch 00006: saving model to model_init_2021-03-0722_23_02.408022/model-00006-0.47928-0.83516-0.84888-0.66000.h5\n",
      "Epoch 7/20\n",
      "14/14 [==============================] - 20s 2s/step - loss: 0.3769 - categorical_accuracy: 0.8647 - val_loss: 0.6630 - val_categorical_accuracy: 0.7400\n",
      "\n",
      "Epoch 00007: saving model to model_init_2021-03-0722_23_02.408022/model-00007-0.36994-0.87363-0.66301-0.74000.h5\n",
      "Epoch 8/20\n",
      "14/14 [==============================] - 19s 1s/step - loss: 0.3428 - categorical_accuracy: 0.8770 - val_loss: 0.6087 - val_categorical_accuracy: 0.7300\n",
      "\n",
      "Epoch 00008: saving model to model_init_2021-03-0722_23_02.408022/model-00008-0.34922-0.87912-0.60868-0.73000.h5\n",
      "Epoch 9/20\n",
      "14/14 [==============================] - 19s 1s/step - loss: 0.3536 - categorical_accuracy: 0.8588 - val_loss: 0.7404 - val_categorical_accuracy: 0.7000\n",
      "\n",
      "Epoch 00009: saving model to model_init_2021-03-0722_23_02.408022/model-00009-0.32551-0.87363-0.74042-0.70000.h5\n",
      "Epoch 10/20\n",
      "14/14 [==============================] - 19s 1s/step - loss: 0.3033 - categorical_accuracy: 0.8986 - val_loss: 0.5153 - val_categorical_accuracy: 0.8100\n",
      "\n",
      "Epoch 00010: saving model to model_init_2021-03-0722_23_02.408022/model-00010-0.28702-0.91758-0.51535-0.81000.h5\n",
      "Epoch 11/20\n",
      "14/14 [==============================] - 20s 2s/step - loss: 0.2255 - categorical_accuracy: 0.9421 - val_loss: 0.6205 - val_categorical_accuracy: 0.7400\n",
      "\n",
      "Epoch 00011: saving model to model_init_2021-03-0722_23_02.408022/model-00011-0.24977-0.91209-0.62054-0.74000.h5\n",
      "Epoch 12/20\n",
      "14/14 [==============================] - 20s 1s/step - loss: 0.2656 - categorical_accuracy: 0.9069 - val_loss: 0.7105 - val_categorical_accuracy: 0.7200\n",
      "\n",
      "Epoch 00012: saving model to model_init_2021-03-0722_23_02.408022/model-00012-0.23074-0.91758-0.71054-0.72000.h5\n",
      "\n",
      "Epoch 00012: ReduceLROnPlateau reducing learning rate to 0.0002500000118743628.\n",
      "Epoch 13/20\n",
      "14/14 [==============================] - 19s 1s/step - loss: 0.1605 - categorical_accuracy: 0.9656 - val_loss: 0.5951 - val_categorical_accuracy: 0.7700\n",
      "\n",
      "Epoch 00013: saving model to model_init_2021-03-0722_23_02.408022/model-00013-0.16576-0.95604-0.59505-0.77000.h5\n",
      "Epoch 14/20\n",
      "14/14 [==============================] - 19s 1s/step - loss: 0.1431 - categorical_accuracy: 0.9593 - val_loss: 0.6205 - val_categorical_accuracy: 0.7800\n",
      "\n",
      "Epoch 00014: saving model to model_init_2021-03-0722_23_02.408022/model-00014-0.13067-0.96154-0.62054-0.78000.h5\n",
      "\n",
      "Epoch 00014: ReduceLROnPlateau reducing learning rate to 0.0001250000059371814.\n",
      "Epoch 15/20\n",
      "14/14 [==============================] - 20s 2s/step - loss: 0.1276 - categorical_accuracy: 0.9634 - val_loss: 0.5659 - val_categorical_accuracy: 0.7900\n",
      "\n",
      "Epoch 00015: saving model to model_init_2021-03-0722_23_02.408022/model-00015-0.13120-0.96154-0.56594-0.79000.h5\n",
      "Epoch 16/20\n",
      "14/14 [==============================] - 20s 2s/step - loss: 0.1480 - categorical_accuracy: 0.9585 - val_loss: 0.5748 - val_categorical_accuracy: 0.8200\n",
      "\n",
      "Epoch 00016: saving model to model_init_2021-03-0722_23_02.408022/model-00016-0.13463-0.95604-0.57483-0.82000.h5\n",
      "\n",
      "Epoch 00016: ReduceLROnPlateau reducing learning rate to 6.25000029685907e-05.\n",
      "Epoch 17/20\n",
      "14/14 [==============================] - 19s 1s/step - loss: 0.1156 - categorical_accuracy: 0.9388 - val_loss: 0.5768 - val_categorical_accuracy: 0.8000\n",
      "\n",
      "Epoch 00017: saving model to model_init_2021-03-0722_23_02.408022/model-00017-0.13121-0.93956-0.57680-0.80000.h5\n",
      "Epoch 18/20\n",
      "14/14 [==============================] - 19s 1s/step - loss: 0.0831 - categorical_accuracy: 0.9830 - val_loss: 0.5516 - val_categorical_accuracy: 0.8000\n",
      "\n",
      "Epoch 00018: saving model to model_init_2021-03-0722_23_02.408022/model-00018-0.10995-0.97253-0.55159-0.80000.h5\n",
      "\n",
      "Epoch 00018: ReduceLROnPlateau reducing learning rate to 3.125000148429535e-05.\n",
      "Epoch 19/20\n",
      "14/14 [==============================] - 19s 1s/step - loss: 0.1063 - categorical_accuracy: 0.9759 - val_loss: 0.5838 - val_categorical_accuracy: 0.8000\n",
      "\n",
      "Epoch 00019: saving model to model_init_2021-03-0722_23_02.408022/model-00019-0.10388-0.96703-0.58384-0.80000.h5\n",
      "Epoch 20/20\n",
      "14/14 [==============================] - 19s 1s/step - loss: 0.1248 - categorical_accuracy: 0.9714 - val_loss: 0.5037 - val_categorical_accuracy: 0.8300\n",
      "\n",
      "Epoch 00020: saving model to model_init_2021-03-0722_23_02.408022/model-00020-0.10435-0.97253-0.50373-0.83000.h5\n"
     ]
    }
   ],
   "source": [
    "# Model fit\n",
    "history = model_1.fit(train_generator, steps_per_epoch=steps_per_epoch, epochs=num_epochs, verbose=1, \n",
    "                    callbacks=callbacks_list, validation_data=val_generator, \n",
    "                    validation_steps=validation_steps, class_weight=None, workers=1, initial_epoch=0)"
   ]
  },
  {
   "cell_type": "code",
   "execution_count": 20,
   "metadata": {
    "id": "pUQ0WH3qCpo2",
    "outputId": "b3de1cb8-321d-4cfa-d3f1-7818a4879a0c"
   },
   "outputs": [
    {
     "name": "stdout",
     "output_type": "stream",
     "text": [
      "Model: \"sequential\"\n",
      "_________________________________________________________________\n",
      "Layer (type)                 Output Shape              Param #   \n",
      "=================================================================\n",
      "conv3d (Conv3D)              (None, 15, 120, 120, 16)  1312      \n",
      "_________________________________________________________________\n",
      "activation (Activation)      (None, 15, 120, 120, 16)  0         \n",
      "_________________________________________________________________\n",
      "max_pooling3d (MaxPooling3D) (None, 7, 60, 60, 16)     0         \n",
      "_________________________________________________________________\n",
      "conv3d_1 (Conv3D)            (None, 7, 60, 60, 32)     13856     \n",
      "_________________________________________________________________\n",
      "activation_1 (Activation)    (None, 7, 60, 60, 32)     0         \n",
      "_________________________________________________________________\n",
      "max_pooling3d_1 (MaxPooling3 (None, 3, 30, 30, 32)     0         \n",
      "_________________________________________________________________\n",
      "conv3d_2 (Conv3D)            (None, 3, 30, 30, 64)     55360     \n",
      "_________________________________________________________________\n",
      "activation_2 (Activation)    (None, 3, 30, 30, 64)     0         \n",
      "_________________________________________________________________\n",
      "max_pooling3d_2 (MaxPooling3 (None, 1, 15, 15, 64)     0         \n",
      "_________________________________________________________________\n",
      "dropout (Dropout)            (None, 1, 15, 15, 64)     0         \n",
      "_________________________________________________________________\n",
      "flatten (Flatten)            (None, 14400)             0         \n",
      "_________________________________________________________________\n",
      "dense (Dense)                (None, 128)               1843328   \n",
      "_________________________________________________________________\n",
      "dense_1 (Dense)              (None, 5)                 645       \n",
      "=================================================================\n",
      "Total params: 1,914,501\n",
      "Trainable params: 1,914,501\n",
      "Non-trainable params: 0\n",
      "_________________________________________________________________\n",
      "None\n"
     ]
    }
   ],
   "source": [
    "# Model summary\n",
    "print (model_1.summary())"
   ]
  },
  {
   "cell_type": "code",
   "execution_count": 21,
   "metadata": {
    "id": "iIlfCqNGBeew",
    "outputId": "5aa35b49-afe5-4350-8b46-9fc6f1250ad1"
   },
   "outputs": [
    {
     "data": {
      "image/png": "[encoded data removed]",
      "text/plain": [
       "<Figure size 576x576 with 2 Axes>"
      ]
     },
     "metadata": {
      "needs_background": "light"
     },
     "output_type": "display_data"
    }
   ],
   "source": [
    "# Visualize the Model\n",
    "acc = history.history['categorical_accuracy']\n",
    "val_acc = history.history['val_categorical_accuracy']\n",
    "\n",
    "loss = history.history['loss']\n",
    "val_loss = history.history['val_loss']\n",
    "\n",
    "epochs_range = range(num_epochs)\n",
    "\n",
    "plt.figure(figsize=(8, 8))\n",
    "plt.subplot(1, 2, 1)\n",
    "plt.plot(epochs_range, acc, label='Training Categorical Accuracy')\n",
    "plt.plot(epochs_range, val_acc, label='Validation Categorical Accuracy')\n",
    "plt.legend(loc='lower right')\n",
    "plt.title('Training and Validation Accuracy')\n",
    "\n",
    "plt.subplot(1, 2, 2)\n",
    "plt.plot(epochs_range, loss, label='Training Loss')\n",
    "plt.plot(epochs_range, val_loss, label='Validation Loss')\n",
    "plt.legend(loc='upper right')\n",
    "plt.title('Training and Validation Loss')\n",
    "plt.show()"
   ]
  },
  {
   "cell_type": "markdown",
   "metadata": {
    "id": "YkrtUMk3B3py"
   },
   "source": [
    "# Model 2 - Convolutional Neural Nework"
   ]
  },
  {
   "cell_type": "code",
   "execution_count": 22,
   "metadata": {
    "id": "WvIl8kKQC2lz"
   },
   "outputs": [],
   "source": [
    "# Define the model\n",
    "model_2 = Sequential()\n",
    "model_2.add(Conv3D(16, kernel_size=(3,3,3), input_shape=(30//img_select,img_width,img_height,channel),padding='same'))\n",
    "model_2.add(Activation('relu'))\n",
    "model_2.add(MaxPooling3D(pool_size=(2, 2, 2)))\n",
    "model_2.add(Conv3D(32, kernel_size=(3,3,3), padding='same'))\n",
    "model_2.add(Activation('relu'))\n",
    "model_2.add(MaxPooling3D(pool_size=(2, 2, 2)))\n",
    "model_2.add(Conv3D(64, kernel_size=(3,3,3), padding='same'))\n",
    "model_2.add(Activation('relu'))\n",
    "model_2.add(MaxPooling3D(pool_size=(2, 2, 2)))\n",
    "model_2.add(Dropout(0.50))\n",
    "model_2.add(Flatten())\n",
    "model_2.add(Dense(128,activation='relu'))\n",
    "model_2.add(Dense(5,activation='softmax'))"
   ]
  },
  {
   "cell_type": "markdown",
   "metadata": {
    "id": "C9v03-i6nA-5"
   },
   "source": [
    "## Experiment 3\n",
    "#### Model = model_2\n",
    "#### Type = Convolutional Neural Network\n",
    "#### Optimizer = Adam\n",
    "#### num_epochs = 20\n",
    "#### batch_size = 50\n",
    "#### Generator = generator_crop_resize"
   ]
  },
  {
   "cell_type": "code",
   "execution_count": 23,
   "metadata": {
    "id": "eBmqHzlMnGkm"
   },
   "outputs": [],
   "source": [
    "train_generator = generator_crop_resize(train_path, train_doc, batch_size)\n",
    "val_generator = generator_crop_resize(val_path, val_doc, batch_size)"
   ]
  },
  {
   "cell_type": "code",
   "execution_count": 24,
   "metadata": {
    "id": "1s_SDCUZC35v"
   },
   "outputs": [],
   "source": [
    "# Model compile\n",
    "opt = keras.optimizers.Adam(learning_rate=lr)\n",
    "model_2.compile(optimizer=opt, loss='categorical_crossentropy', metrics=['categorical_accuracy'])"
   ]
  },
  {
   "cell_type": "code",
   "execution_count": 25,
   "metadata": {
    "id": "FQ16gRdpC8VM",
    "outputId": "d6fee317-f26c-4748-d829-30cbfc168945"
   },
   "outputs": [
    {
     "name": "stdout",
     "output_type": "stream",
     "text": [
      "Source path =  ../input/project1/Project_data/train ; batch size = 50\n",
      "Epoch 1/20\n",
      "14/14 [==============================] - ETA: 0s - loss: 1.7571 - categorical_accuracy: 0.1890Source path =  ../input/project1/Project_data/val ; batch size = 50\n",
      "14/14 [==============================] - 45s 3s/step - loss: 1.7516 - categorical_accuracy: 0.1890 - val_loss: 1.5713 - val_categorical_accuracy: 0.2900\n",
      "\n",
      "Epoch 00001: saving model to model_init_2021-03-0722_23_02.408022/model-00001-1.67358-0.18854-1.57134-0.29000.h5\n",
      "Epoch 2/20\n",
      "14/14 [==============================] - 19s 1s/step - loss: 1.5934 - categorical_accuracy: 0.2201 - val_loss: 1.4656 - val_categorical_accuracy: 0.3600\n",
      "\n",
      "Epoch 00002: saving model to model_init_2021-03-0722_23_02.408022/model-00002-1.57932-0.24725-1.46564-0.36000.h5\n",
      "Epoch 3/20\n",
      "14/14 [==============================] - 20s 2s/step - loss: 1.4942 - categorical_accuracy: 0.3718 - val_loss: 1.3222 - val_categorical_accuracy: 0.4300\n",
      "\n",
      "Epoch 00003: saving model to model_init_2021-03-0722_23_02.408022/model-00003-1.45091-0.36264-1.32216-0.43000.h5\n",
      "Epoch 4/20\n",
      "14/14 [==============================] - 18s 1s/step - loss: 1.2596 - categorical_accuracy: 0.4073 - val_loss: 1.3046 - val_categorical_accuracy: 0.3600\n",
      "\n",
      "Epoch 00004: saving model to model_init_2021-03-0722_23_02.408022/model-00004-1.26931-0.41209-1.30465-0.36000.h5\n",
      "Epoch 5/20\n",
      "14/14 [==============================] - 19s 1s/step - loss: 1.2667 - categorical_accuracy: 0.4517 - val_loss: 1.1980 - val_categorical_accuracy: 0.5700\n",
      "\n",
      "Epoch 00005: saving model to model_init_2021-03-0722_23_02.408022/model-00005-1.29602-0.43956-1.19804-0.57000.h5\n",
      "Epoch 6/20\n",
      "14/14 [==============================] - 19s 1s/step - loss: 1.2339 - categorical_accuracy: 0.5138 - val_loss: 1.0927 - val_categorical_accuracy: 0.6400\n",
      "\n",
      "Epoch 00006: saving model to model_init_2021-03-0722_23_02.408022/model-00006-1.21030-0.49451-1.09273-0.64000.h5\n",
      "Epoch 7/20\n",
      "14/14 [==============================] - 19s 1s/step - loss: 1.1877 - categorical_accuracy: 0.5142 - val_loss: 1.0271 - val_categorical_accuracy: 0.5500\n",
      "\n",
      "Epoch 00007: saving model to model_init_2021-03-0722_23_02.408022/model-00007-1.17042-0.50000-1.02713-0.55000.h5\n",
      "Epoch 8/20\n",
      "14/14 [==============================] - 18s 1s/step - loss: 1.1123 - categorical_accuracy: 0.5089 - val_loss: 1.1058 - val_categorical_accuracy: 0.5300\n",
      "\n",
      "Epoch 00008: saving model to model_init_2021-03-0722_23_02.408022/model-00008-1.15419-0.50549-1.10576-0.53000.h5\n",
      "Epoch 9/20\n",
      "14/14 [==============================] - 19s 1s/step - loss: 1.0268 - categorical_accuracy: 0.5314 - val_loss: 1.0059 - val_categorical_accuracy: 0.5500\n",
      "\n",
      "Epoch 00009: saving model to model_init_2021-03-0722_23_02.408022/model-00009-1.03367-0.57692-1.00592-0.55000.h5\n",
      "Epoch 10/20\n",
      "14/14 [==============================] - 19s 1s/step - loss: 0.9997 - categorical_accuracy: 0.6333 - val_loss: 0.9721 - val_categorical_accuracy: 0.6600\n",
      "\n",
      "Epoch 00010: saving model to model_init_2021-03-0722_23_02.408022/model-00010-0.96268-0.61538-0.97205-0.66000.h5\n",
      "Epoch 11/20\n",
      "14/14 [==============================] - 18s 1s/step - loss: 0.8951 - categorical_accuracy: 0.6480 - val_loss: 0.7991 - val_categorical_accuracy: 0.7000\n",
      "\n",
      "Epoch 00011: saving model to model_init_2021-03-0722_23_02.408022/model-00011-0.88151-0.65385-0.79905-0.70000.h5\n",
      "Epoch 12/20\n",
      "14/14 [==============================] - 19s 1s/step - loss: 0.9778 - categorical_accuracy: 0.6194 - val_loss: 0.8016 - val_categorical_accuracy: 0.6700\n",
      "\n",
      "Epoch 00012: saving model to model_init_2021-03-0722_23_02.408022/model-00012-0.99804-0.61538-0.80156-0.67000.h5\n",
      "Epoch 13/20\n",
      "14/14 [==============================] - 19s 1s/step - loss: 0.7752 - categorical_accuracy: 0.6885 - val_loss: 1.1199 - val_categorical_accuracy: 0.5700\n",
      "\n",
      "Epoch 00013: saving model to model_init_2021-03-0722_23_02.408022/model-00013-0.73860-0.70879-1.11992-0.57000.h5\n",
      "\n",
      "Epoch 00013: ReduceLROnPlateau reducing learning rate to 0.0005000000237487257.\n",
      "Epoch 14/20\n",
      "14/14 [==============================] - 19s 1s/step - loss: 0.8902 - categorical_accuracy: 0.6593 - val_loss: 0.9294 - val_categorical_accuracy: 0.6700\n",
      "\n",
      "Epoch 00014: saving model to model_init_2021-03-0722_23_02.408022/model-00014-0.79044-0.70879-0.92942-0.67000.h5\n",
      "Epoch 15/20\n",
      "14/14 [==============================] - 21s 2s/step - loss: 0.8341 - categorical_accuracy: 0.7078 - val_loss: 0.6993 - val_categorical_accuracy: 0.7300\n",
      "\n",
      "Epoch 00015: saving model to model_init_2021-03-0722_23_02.408022/model-00015-0.77292-0.73077-0.69932-0.73000.h5\n",
      "Epoch 16/20\n",
      "14/14 [==============================] - 19s 1s/step - loss: 0.4690 - categorical_accuracy: 0.8396 - val_loss: 0.6606 - val_categorical_accuracy: 0.7700\n",
      "\n",
      "Epoch 00016: saving model to model_init_2021-03-0722_23_02.408022/model-00016-0.51182-0.82967-0.66064-0.77000.h5\n",
      "Epoch 17/20\n",
      "14/14 [==============================] - 19s 1s/step - loss: 0.5718 - categorical_accuracy: 0.7993 - val_loss: 0.7214 - val_categorical_accuracy: 0.7300\n",
      "\n",
      "Epoch 00017: saving model to model_init_2021-03-0722_23_02.408022/model-00017-0.55543-0.80769-0.72143-0.73000.h5\n",
      "Epoch 18/20\n",
      "14/14 [==============================] - 19s 1s/step - loss: 0.4965 - categorical_accuracy: 0.8187 - val_loss: 0.5186 - val_categorical_accuracy: 0.8200\n",
      "\n",
      "Epoch 00018: saving model to model_init_2021-03-0722_23_02.408022/model-00018-0.49389-0.81868-0.51862-0.82000.h5\n",
      "Epoch 19/20\n",
      "14/14 [==============================] - 19s 1s/step - loss: 0.3573 - categorical_accuracy: 0.8908 - val_loss: 0.6473 - val_categorical_accuracy: 0.7500\n",
      "\n",
      "Epoch 00019: saving model to model_init_2021-03-0722_23_02.408022/model-00019-0.39941-0.85714-0.64734-0.75000.h5\n",
      "Epoch 20/20\n",
      "14/14 [==============================] - 19s 1s/step - loss: 0.4490 - categorical_accuracy: 0.8429 - val_loss: 0.5506 - val_categorical_accuracy: 0.7700\n",
      "\n",
      "Epoch 00020: saving model to model_init_2021-03-0722_23_02.408022/model-00020-0.43969-0.82418-0.55060-0.77000.h5\n",
      "\n",
      "Epoch 00020: ReduceLROnPlateau reducing learning rate to 0.0002500000118743628.\n"
     ]
    }
   ],
   "source": [
    "# Model fit\n",
    "history = model_2.fit(train_generator, steps_per_epoch=steps_per_epoch, epochs=num_epochs, verbose=1, \n",
    "                    callbacks=callbacks_list, validation_data=val_generator, \n",
    "                    validation_steps=validation_steps, class_weight=None, workers=1, initial_epoch=0)"
   ]
  },
  {
   "cell_type": "code",
   "execution_count": 26,
   "metadata": {
    "id": "gPzpJu4LWAml",
    "outputId": "11d0d1bd-e4df-4b3d-d8b6-ccac1d69488a"
   },
   "outputs": [
    {
     "name": "stdout",
     "output_type": "stream",
     "text": [
      "Model: \"sequential_1\"\n",
      "_________________________________________________________________\n",
      "Layer (type)                 Output Shape              Param #   \n",
      "=================================================================\n",
      "conv3d_3 (Conv3D)            (None, 15, 120, 120, 16)  1312      \n",
      "_________________________________________________________________\n",
      "activation_3 (Activation)    (None, 15, 120, 120, 16)  0         \n",
      "_________________________________________________________________\n",
      "max_pooling3d_3 (MaxPooling3 (None, 7, 60, 60, 16)     0         \n",
      "_________________________________________________________________\n",
      "conv3d_4 (Conv3D)            (None, 7, 60, 60, 32)     13856     \n",
      "_________________________________________________________________\n",
      "activation_4 (Activation)    (None, 7, 60, 60, 32)     0         \n",
      "_________________________________________________________________\n",
      "max_pooling3d_4 (MaxPooling3 (None, 3, 30, 30, 32)     0         \n",
      "_________________________________________________________________\n",
      "conv3d_5 (Conv3D)            (None, 3, 30, 30, 64)     55360     \n",
      "_________________________________________________________________\n",
      "activation_5 (Activation)    (None, 3, 30, 30, 64)     0         \n",
      "_________________________________________________________________\n",
      "max_pooling3d_5 (MaxPooling3 (None, 1, 15, 15, 64)     0         \n",
      "_________________________________________________________________\n",
      "dropout_1 (Dropout)          (None, 1, 15, 15, 64)     0         \n",
      "_________________________________________________________________\n",
      "flatten_1 (Flatten)          (None, 14400)             0         \n",
      "_________________________________________________________________\n",
      "dense_2 (Dense)              (None, 128)               1843328   \n",
      "_________________________________________________________________\n",
      "dense_3 (Dense)              (None, 5)                 645       \n",
      "=================================================================\n",
      "Total params: 1,914,501\n",
      "Trainable params: 1,914,501\n",
      "Non-trainable params: 0\n",
      "_________________________________________________________________\n",
      "None\n"
     ]
    }
   ],
   "source": [
    "# Model summary\n",
    "print(model_2.summary())"
   ]
  },
  {
   "cell_type": "code",
   "execution_count": 27,
   "metadata": {
    "id": "nNhx3eKBWCDl",
    "outputId": "af026d43-9367-40ff-c7e5-8393934bc299"
   },
   "outputs": [
    {
     "data": {
      "image/png": "[encoded data removed]",
      "text/plain": [
       "<Figure size 576x576 with 2 Axes>"
      ]
     },
     "metadata": {
      "needs_background": "light"
     },
     "output_type": "display_data"
    }
   ],
   "source": [
    "# Visualize the Model\n",
    "acc = history.history['categorical_accuracy']\n",
    "val_acc = history.history['val_categorical_accuracy']\n",
    "\n",
    "loss = history.history['loss']\n",
    "val_loss = history.history['val_loss']\n",
    "\n",
    "epochs_range = range(num_epochs)\n",
    "\n",
    "plt.figure(figsize=(8, 8))\n",
    "plt.subplot(1, 2, 1)\n",
    "plt.plot(epochs_range, acc, label='Training Categorical Accuracy')\n",
    "plt.plot(epochs_range, val_acc, label='Validation Categorical Accuracy')\n",
    "plt.legend(loc='lower right')\n",
    "plt.title('Training and Validation Accuracy')\n",
    "\n",
    "plt.subplot(1, 2, 2)\n",
    "plt.plot(epochs_range, loss, label='Training Loss')\n",
    "plt.plot(epochs_range, val_loss, label='Validation Loss')\n",
    "plt.legend(loc='upper right')\n",
    "plt.title('Training and Validation Loss')\n",
    "plt.show()"
   ]
  },
  {
   "cell_type": "markdown",
   "metadata": {
    "id": "wPMZtOXMnL0c"
   },
   "source": [
    "## Experiment 4\n",
    "#### Model = model_2\n",
    "#### Type = Convolutional Neural Network\n",
    "#### Optimizer = Adam\n",
    "#### num_epochs = 20\n",
    "#### batch_size = 50\n",
    "#### Generator = generator_resize"
   ]
  },
  {
   "cell_type": "code",
   "execution_count": 28,
   "metadata": {
    "id": "2GVx7WrPlI6H"
   },
   "outputs": [],
   "source": [
    "train_generator = generator_resize(train_path, train_doc, batch_size)\n",
    "val_generator = generator_resize(val_path, val_doc, batch_size)"
   ]
  },
  {
   "cell_type": "code",
   "execution_count": 29,
   "metadata": {
    "id": "EClU-QQ3nO9O"
   },
   "outputs": [],
   "source": [
    "# Model compile\n",
    "opt = keras.optimizers.Adam(learning_rate=lr)\n",
    "model_2.compile(optimizer=opt, loss='categorical_crossentropy', metrics=['categorical_accuracy'])"
   ]
  },
  {
   "cell_type": "code",
   "execution_count": 30,
   "metadata": {
    "id": "DzBfJQB1lO10",
    "outputId": "896fe0cf-b5b3-45f3-a048-c0b4c3985be1"
   },
   "outputs": [
    {
     "name": "stdout",
     "output_type": "stream",
     "text": [
      "Source path =  ../input/project1/Project_data/train ; batch size = 50\n",
      "Epoch 1/20\n",
      "14/14 [==============================] - ETA: 0s - loss: 0.6874 - categorical_accuracy: 0.7558Source path =  ../input/project1/Project_data/val ; batch size = 50\n",
      "14/14 [==============================] - 46s 3s/step - loss: 0.6832 - categorical_accuracy: 0.7563 - val_loss: 0.6903 - val_categorical_accuracy: 0.7300\n",
      "\n",
      "Epoch 00001: saving model to model_init_2021-03-0722_23_02.408022/model-00001-0.62395-0.76320-0.69029-0.73000.h5\n",
      "Epoch 2/20\n",
      "14/14 [==============================] - 20s 2s/step - loss: 0.4765 - categorical_accuracy: 0.7868 - val_loss: 0.7106 - val_categorical_accuracy: 0.6600\n",
      "\n",
      "Epoch 00002: saving model to model_init_2021-03-0722_23_02.408022/model-00002-0.48509-0.79121-0.71056-0.66000.h5\n",
      "Epoch 3/20\n",
      "14/14 [==============================] - 20s 2s/step - loss: 0.4736 - categorical_accuracy: 0.8149 - val_loss: 0.6581 - val_categorical_accuracy: 0.7700\n",
      "\n",
      "Epoch 00003: saving model to model_init_2021-03-0722_23_02.408022/model-00003-0.42843-0.84615-0.65815-0.77000.h5\n",
      "Epoch 4/20\n",
      "14/14 [==============================] - 19s 1s/step - loss: 0.5099 - categorical_accuracy: 0.7945 - val_loss: 0.7828 - val_categorical_accuracy: 0.6700\n",
      "\n",
      "Epoch 00004: saving model to model_init_2021-03-0722_23_02.408022/model-00004-0.50840-0.79121-0.78278-0.67000.h5\n",
      "Epoch 5/20\n",
      "14/14 [==============================] - 20s 2s/step - loss: 0.4899 - categorical_accuracy: 0.8007 - val_loss: 0.5720 - val_categorical_accuracy: 0.7600\n",
      "\n",
      "Epoch 00005: saving model to model_init_2021-03-0722_23_02.408022/model-00005-0.47077-0.80220-0.57197-0.76000.h5\n",
      "Epoch 6/20\n",
      "14/14 [==============================] - 19s 1s/step - loss: 0.2672 - categorical_accuracy: 0.9085 - val_loss: 0.6082 - val_categorical_accuracy: 0.8000\n",
      "\n",
      "Epoch 00006: saving model to model_init_2021-03-0722_23_02.408022/model-00006-0.28540-0.89560-0.60821-0.80000.h5\n",
      "Epoch 7/20\n",
      "14/14 [==============================] - 19s 1s/step - loss: 0.5513 - categorical_accuracy: 0.7572 - val_loss: 0.5429 - val_categorical_accuracy: 0.7800\n",
      "\n",
      "Epoch 00007: saving model to model_init_2021-03-0722_23_02.408022/model-00007-0.46639-0.81868-0.54292-0.78000.h5\n",
      "Epoch 8/20\n",
      "14/14 [==============================] - 19s 1s/step - loss: 0.3808 - categorical_accuracy: 0.8876 - val_loss: 0.5771 - val_categorical_accuracy: 0.7700\n",
      "\n",
      "Epoch 00008: saving model to model_init_2021-03-0722_23_02.408022/model-00008-0.38914-0.87363-0.57710-0.77000.h5\n",
      "Epoch 9/20\n",
      "14/14 [==============================] - 19s 1s/step - loss: 0.4125 - categorical_accuracy: 0.8453 - val_loss: 0.5155 - val_categorical_accuracy: 0.7900\n",
      "\n",
      "Epoch 00009: saving model to model_init_2021-03-0722_23_02.408022/model-00009-0.37213-0.85714-0.51550-0.79000.h5\n",
      "Epoch 10/20\n",
      "14/14 [==============================] - 19s 1s/step - loss: 0.3487 - categorical_accuracy: 0.8515 - val_loss: 0.7248 - val_categorical_accuracy: 0.7400\n",
      "\n",
      "Epoch 00010: saving model to model_init_2021-03-0722_23_02.408022/model-00010-0.33855-0.87363-0.72479-0.74000.h5\n",
      "Epoch 11/20\n",
      "14/14 [==============================] - 20s 2s/step - loss: 0.1978 - categorical_accuracy: 0.9436 - val_loss: 0.7392 - val_categorical_accuracy: 0.6900\n",
      "\n",
      "Epoch 00011: saving model to model_init_2021-03-0722_23_02.408022/model-00011-0.24440-0.91209-0.73923-0.69000.h5\n",
      "\n",
      "Epoch 00011: ReduceLROnPlateau reducing learning rate to 0.0005000000237487257.\n",
      "Epoch 12/20\n",
      "14/14 [==============================] - 20s 2s/step - loss: 0.2748 - categorical_accuracy: 0.9186 - val_loss: 0.5946 - val_categorical_accuracy: 0.8000\n",
      "\n",
      "Epoch 00012: saving model to model_init_2021-03-0722_23_02.408022/model-00012-0.24835-0.93407-0.59459-0.80000.h5\n",
      "Epoch 13/20\n",
      "14/14 [==============================] - 20s 2s/step - loss: 0.2216 - categorical_accuracy: 0.9125 - val_loss: 0.4964 - val_categorical_accuracy: 0.8200\n",
      "\n",
      "Epoch 00013: saving model to model_init_2021-03-0722_23_02.408022/model-00013-0.19439-0.92857-0.49638-0.82000.h5\n",
      "Epoch 14/20\n",
      "14/14 [==============================] - 19s 1s/step - loss: 0.1313 - categorical_accuracy: 0.9558 - val_loss: 0.5484 - val_categorical_accuracy: 0.8100\n",
      "\n",
      "Epoch 00014: saving model to model_init_2021-03-0722_23_02.408022/model-00014-0.11866-0.96154-0.54836-0.81000.h5\n",
      "Epoch 15/20\n",
      "14/14 [==============================] - 20s 2s/step - loss: 0.1060 - categorical_accuracy: 0.9695 - val_loss: 0.5706 - val_categorical_accuracy: 0.7900\n",
      "\n",
      "Epoch 00015: saving model to model_init_2021-03-0722_23_02.408022/model-00015-0.11650-0.97253-0.57065-0.79000.h5\n",
      "\n",
      "Epoch 00015: ReduceLROnPlateau reducing learning rate to 0.0002500000118743628.\n",
      "Epoch 16/20\n",
      "14/14 [==============================] - 19s 1s/step - loss: 0.1273 - categorical_accuracy: 0.9563 - val_loss: 0.4911 - val_categorical_accuracy: 0.7700\n",
      "\n",
      "Epoch 00016: saving model to model_init_2021-03-0722_23_02.408022/model-00016-0.12887-0.95055-0.49106-0.77000.h5\n",
      "Epoch 17/20\n",
      "14/14 [==============================] - 19s 1s/step - loss: 0.0681 - categorical_accuracy: 0.9812 - val_loss: 0.5228 - val_categorical_accuracy: 0.8100\n",
      "\n",
      "Epoch 00017: saving model to model_init_2021-03-0722_23_02.408022/model-00017-0.06671-0.97802-0.52284-0.81000.h5\n",
      "Epoch 18/20\n",
      "14/14 [==============================] - 19s 1s/step - loss: 0.0898 - categorical_accuracy: 0.9834 - val_loss: 0.5449 - val_categorical_accuracy: 0.7900\n",
      "\n",
      "Epoch 00018: saving model to model_init_2021-03-0722_23_02.408022/model-00018-0.10287-0.97802-0.54485-0.79000.h5\n",
      "\n",
      "Epoch 00018: ReduceLROnPlateau reducing learning rate to 0.0001250000059371814.\n",
      "Epoch 19/20\n",
      "14/14 [==============================] - 20s 2s/step - loss: 0.0748 - categorical_accuracy: 0.9760 - val_loss: 0.4678 - val_categorical_accuracy: 0.8400\n",
      "\n",
      "Epoch 00019: saving model to model_init_2021-03-0722_23_02.408022/model-00019-0.06843-0.97802-0.46775-0.84000.h5\n",
      "Epoch 20/20\n",
      "14/14 [==============================] - 19s 1s/step - loss: 0.0782 - categorical_accuracy: 0.9755 - val_loss: 0.4345 - val_categorical_accuracy: 0.8300\n",
      "\n",
      "Epoch 00020: saving model to model_init_2021-03-0722_23_02.408022/model-00020-0.07550-0.97802-0.43446-0.83000.h5\n"
     ]
    }
   ],
   "source": [
    "# Model fit\n",
    "history = model_2.fit(train_generator, steps_per_epoch=steps_per_epoch, epochs=num_epochs, verbose=1, \n",
    "                    callbacks=callbacks_list, validation_data=val_generator, \n",
    "                    validation_steps=validation_steps, class_weight=None, workers=1, initial_epoch=0)"
   ]
  },
  {
   "cell_type": "code",
   "execution_count": 31,
   "metadata": {
    "id": "JEi1UXEAlZwO",
    "outputId": "3b983f59-d837-4f1d-b0ad-dccd5ab63bcb"
   },
   "outputs": [
    {
     "name": "stdout",
     "output_type": "stream",
     "text": [
      "Model: \"sequential_1\"\n",
      "_________________________________________________________________\n",
      "Layer (type)                 Output Shape              Param #   \n",
      "=================================================================\n",
      "conv3d_3 (Conv3D)            (None, 15, 120, 120, 16)  1312      \n",
      "_________________________________________________________________\n",
      "activation_3 (Activation)    (None, 15, 120, 120, 16)  0         \n",
      "_________________________________________________________________\n",
      "max_pooling3d_3 (MaxPooling3 (None, 7, 60, 60, 16)     0         \n",
      "_________________________________________________________________\n",
      "conv3d_4 (Conv3D)            (None, 7, 60, 60, 32)     13856     \n",
      "_________________________________________________________________\n",
      "activation_4 (Activation)    (None, 7, 60, 60, 32)     0         \n",
      "_________________________________________________________________\n",
      "max_pooling3d_4 (MaxPooling3 (None, 3, 30, 30, 32)     0         \n",
      "_________________________________________________________________\n",
      "conv3d_5 (Conv3D)            (None, 3, 30, 30, 64)     55360     \n",
      "_________________________________________________________________\n",
      "activation_5 (Activation)    (None, 3, 30, 30, 64)     0         \n",
      "_________________________________________________________________\n",
      "max_pooling3d_5 (MaxPooling3 (None, 1, 15, 15, 64)     0         \n",
      "_________________________________________________________________\n",
      "dropout_1 (Dropout)          (None, 1, 15, 15, 64)     0         \n",
      "_________________________________________________________________\n",
      "flatten_1 (Flatten)          (None, 14400)             0         \n",
      "_________________________________________________________________\n",
      "dense_2 (Dense)              (None, 128)               1843328   \n",
      "_________________________________________________________________\n",
      "dense_3 (Dense)              (None, 5)                 645       \n",
      "=================================================================\n",
      "Total params: 1,914,501\n",
      "Trainable params: 1,914,501\n",
      "Non-trainable params: 0\n",
      "_________________________________________________________________\n",
      "None\n"
     ]
    }
   ],
   "source": [
    "# Model summary\n",
    "print(model_2.summary())"
   ]
  },
  {
   "cell_type": "code",
   "execution_count": 32,
   "metadata": {
    "id": "rJNvQZ90lcLb",
    "outputId": "466773e9-9680-4e9a-b446-bd02d6ba0191"
   },
   "outputs": [
    {
     "data": {
      "image/png": "[encoded data removed]",
      "text/plain": [
       "<Figure size 576x576 with 2 Axes>"
      ]
     },
     "metadata": {
      "needs_background": "light"
     },
     "output_type": "display_data"
    }
   ],
   "source": [
    "# Visualize the Model\n",
    "acc = history.history['categorical_accuracy']\n",
    "val_acc = history.history['val_categorical_accuracy']\n",
    "\n",
    "loss = history.history['loss']\n",
    "val_loss = history.history['val_loss']\n",
    "\n",
    "epochs_range = range(num_epochs)\n",
    "\n",
    "plt.figure(figsize=(8, 8))\n",
    "plt.subplot(1, 2, 1)\n",
    "plt.plot(epochs_range, acc, label='Training Categorical Accuracy')\n",
    "plt.plot(epochs_range, val_acc, label='Validation Categorical Accuracy')\n",
    "plt.legend(loc='lower right')\n",
    "plt.title('Training and Validation Accuracy')\n",
    "\n",
    "plt.subplot(1, 2, 2)\n",
    "plt.plot(epochs_range, loss, label='Training Loss')\n",
    "plt.plot(epochs_range, val_loss, label='Validation Loss')\n",
    "plt.legend(loc='upper right')\n",
    "plt.title('Training and Validation Loss')\n",
    "plt.show()"
   ]
  },
  {
   "cell_type": "markdown",
   "metadata": {
    "id": "DrpMcxhllJRu"
   },
   "source": [
    "# Model 3 - Convolutional Neural Nework"
   ]
  },
  {
   "cell_type": "code",
   "execution_count": 33,
   "metadata": {
    "id": "utjnS-Y9Ke9n"
   },
   "outputs": [],
   "source": [
    "# Define the model\n",
    "model_3 = Sequential()\n",
    "model_3.add(Conv3D(16, kernel_size=(3,3,3), input_shape=(30//img_select,img_width,img_height,channel),padding='same'))\n",
    "model_3.add(Activation('relu'))\n",
    "model_3.add(MaxPooling3D(pool_size=(2, 2, 2)))\n",
    "model_3.add(Conv3D(32, kernel_size=(3,3,3), padding='same'))\n",
    "model_3.add(Activation('relu'))\n",
    "model_3.add(MaxPooling3D(pool_size=(2, 2, 2)))\n",
    "model_3.add(Conv3D(64, kernel_size=(3,3,3), padding='same'))\n",
    "model_3.add(Activation('relu'))\n",
    "model_3.add(MaxPooling3D(pool_size=(2, 2, 2)))\n",
    "model_3.add(Dropout(0.25))\n",
    "model_3.add(Flatten())\n",
    "model_3.add(Dense(128,activation='relu'))\n",
    "model_3.add(Dropout(0.25))\n",
    "model_3.add(Dense(64,activation='relu'))\n",
    "model_3.add(Dense(5,activation='softmax'))"
   ]
  },
  {
   "cell_type": "markdown",
   "metadata": {
    "id": "-_4HEAFWnVGk"
   },
   "source": [
    "## Experiment 5\n",
    "#### Model = model_3\n",
    "#### Type = Convolutional Neural Network\n",
    "#### Optimizer = Adam\n",
    "### num_epochs = 20\n",
    "#### batch_size = 50\n",
    "#### Generator = generator_crop_resize"
   ]
  },
  {
   "cell_type": "code",
   "execution_count": 34,
   "metadata": {
    "id": "FNfbv5PpnjAH"
   },
   "outputs": [],
   "source": [
    "train_generator = generator_crop_resize(train_path, train_doc, batch_size)\n",
    "val_generator = generator_crop_resize(val_path, val_doc, batch_size)"
   ]
  },
  {
   "cell_type": "code",
   "execution_count": 35,
   "metadata": {
    "id": "qfIgSYaCnfzW"
   },
   "outputs": [],
   "source": [
    "# Compile the model\n",
    "opt = keras.optimizers.Adam(learning_rate=lr)\n",
    "model_3.compile(optimizer=opt, loss='categorical_crossentropy', metrics=['categorical_accuracy'])"
   ]
  },
  {
   "cell_type": "code",
   "execution_count": 36,
   "metadata": {
    "id": "4TULqf7BKlG3",
    "outputId": "1cb106fb-8815-4e73-c9eb-eb7d997a19a9"
   },
   "outputs": [
    {
     "name": "stdout",
     "output_type": "stream",
     "text": [
      "Source path =  ../input/project1/Project_data/train ; batch size = 50\n",
      "Epoch 1/20\n",
      "14/14 [==============================] - ETA: 0s - loss: 1.6962 - categorical_accuracy: 0.2232Source path =  ../input/project1/Project_data/val ; batch size = 50\n",
      "14/14 [==============================] - 45s 3s/step - loss: 1.6930 - categorical_accuracy: 0.2230 - val_loss: 1.5623 - val_categorical_accuracy: 0.2300\n",
      "\n",
      "Epoch 00001: saving model to model_init_2021-03-0722_23_02.408022/model-00001-1.64867-0.22021-1.56232-0.23000.h5\n",
      "Epoch 2/20\n",
      "14/14 [==============================] - 19s 1s/step - loss: 1.5526 - categorical_accuracy: 0.2305 - val_loss: 1.4411 - val_categorical_accuracy: 0.4000\n",
      "\n",
      "Epoch 00002: saving model to model_init_2021-03-0722_23_02.408022/model-00002-1.54135-0.24725-1.44109-0.40000.h5\n",
      "Epoch 3/20\n",
      "14/14 [==============================] - 19s 1s/step - loss: 1.4432 - categorical_accuracy: 0.3547 - val_loss: 1.5735 - val_categorical_accuracy: 0.3300\n",
      "\n",
      "Epoch 00003: saving model to model_init_2021-03-0722_23_02.408022/model-00003-1.45521-0.32418-1.57350-0.33000.h5\n",
      "Epoch 4/20\n",
      "14/14 [==============================] - 19s 1s/step - loss: 1.5086 - categorical_accuracy: 0.3303 - val_loss: 1.4099 - val_categorical_accuracy: 0.3200\n",
      "\n",
      "Epoch 00004: saving model to model_init_2021-03-0722_23_02.408022/model-00004-1.44078-0.36813-1.40995-0.32000.h5\n",
      "Epoch 5/20\n",
      "14/14 [==============================] - 19s 1s/step - loss: 1.3731 - categorical_accuracy: 0.4201 - val_loss: 1.2021 - val_categorical_accuracy: 0.5000\n",
      "\n",
      "Epoch 00005: saving model to model_init_2021-03-0722_23_02.408022/model-00005-1.38015-0.43407-1.20205-0.50000.h5\n",
      "Epoch 6/20\n",
      "14/14 [==============================] - 19s 1s/step - loss: 1.2567 - categorical_accuracy: 0.4692 - val_loss: 1.1897 - val_categorical_accuracy: 0.4600\n",
      "\n",
      "Epoch 00006: saving model to model_init_2021-03-0722_23_02.408022/model-00006-1.25031-0.48352-1.18972-0.46000.h5\n",
      "Epoch 7/20\n",
      "14/14 [==============================] - 19s 1s/step - loss: 1.1355 - categorical_accuracy: 0.5593 - val_loss: 1.6264 - val_categorical_accuracy: 0.3700\n",
      "\n",
      "Epoch 00007: saving model to model_init_2021-03-0722_23_02.408022/model-00007-1.13399-0.55495-1.62642-0.37000.h5\n",
      "Epoch 8/20\n",
      "14/14 [==============================] - 19s 1s/step - loss: 1.2877 - categorical_accuracy: 0.4564 - val_loss: 1.2466 - val_categorical_accuracy: 0.5000\n",
      "\n",
      "Epoch 00008: saving model to model_init_2021-03-0722_23_02.408022/model-00008-1.21518-0.50000-1.24656-0.50000.h5\n",
      "\n",
      "Epoch 00008: ReduceLROnPlateau reducing learning rate to 0.0005000000237487257.\n",
      "Epoch 9/20\n",
      "14/14 [==============================] - 19s 1s/step - loss: 1.0545 - categorical_accuracy: 0.5855 - val_loss: 1.0221 - val_categorical_accuracy: 0.6200\n",
      "\n",
      "Epoch 00009: saving model to model_init_2021-03-0722_23_02.408022/model-00009-1.02440-0.59341-1.02209-0.62000.h5\n",
      "Epoch 10/20\n",
      "14/14 [==============================] - 19s 1s/step - loss: 0.9912 - categorical_accuracy: 0.5993 - val_loss: 0.9654 - val_categorical_accuracy: 0.6000\n",
      "\n",
      "Epoch 00010: saving model to model_init_2021-03-0722_23_02.408022/model-00010-0.93813-0.61538-0.96543-0.60000.h5\n",
      "Epoch 11/20\n",
      "14/14 [==============================] - 19s 1s/step - loss: 1.0628 - categorical_accuracy: 0.5107 - val_loss: 0.9481 - val_categorical_accuracy: 0.6500\n",
      "\n",
      "Epoch 00011: saving model to model_init_2021-03-0722_23_02.408022/model-00011-1.01341-0.57143-0.94810-0.65000.h5\n",
      "Epoch 12/20\n",
      "14/14 [==============================] - 19s 1s/step - loss: 0.8746 - categorical_accuracy: 0.6647 - val_loss: 0.9677 - val_categorical_accuracy: 0.6400\n",
      "\n",
      "Epoch 00012: saving model to model_init_2021-03-0722_23_02.408022/model-00012-0.84643-0.68681-0.96773-0.64000.h5\n",
      "Epoch 13/20\n",
      "14/14 [==============================] - 19s 1s/step - loss: 0.8524 - categorical_accuracy: 0.6564 - val_loss: 0.8807 - val_categorical_accuracy: 0.7000\n",
      "\n",
      "Epoch 00013: saving model to model_init_2021-03-0722_23_02.408022/model-00013-0.85581-0.63187-0.88065-0.70000.h5\n",
      "Epoch 14/20\n",
      "14/14 [==============================] - 19s 1s/step - loss: 0.8448 - categorical_accuracy: 0.6464 - val_loss: 0.8097 - val_categorical_accuracy: 0.6900\n",
      "\n",
      "Epoch 00014: saving model to model_init_2021-03-0722_23_02.408022/model-00014-0.87417-0.66484-0.80967-0.69000.h5\n",
      "Epoch 15/20\n",
      "14/14 [==============================] - 19s 1s/step - loss: 0.7682 - categorical_accuracy: 0.7006 - val_loss: 0.8636 - val_categorical_accuracy: 0.6900\n",
      "\n",
      "Epoch 00015: saving model to model_init_2021-03-0722_23_02.408022/model-00015-0.72870-0.73626-0.86357-0.69000.h5\n",
      "Epoch 16/20\n",
      "14/14 [==============================] - 19s 1s/step - loss: 0.7789 - categorical_accuracy: 0.7040 - val_loss: 0.7624 - val_categorical_accuracy: 0.6900\n",
      "\n",
      "Epoch 00016: saving model to model_init_2021-03-0722_23_02.408022/model-00016-0.77845-0.72527-0.76240-0.69000.h5\n",
      "Epoch 17/20\n",
      "14/14 [==============================] - 19s 1s/step - loss: 0.6438 - categorical_accuracy: 0.7568 - val_loss: 0.8091 - val_categorical_accuracy: 0.7100\n",
      "\n",
      "Epoch 00017: saving model to model_init_2021-03-0722_23_02.408022/model-00017-0.68665-0.71978-0.80910-0.71000.h5\n",
      "Epoch 18/20\n",
      "14/14 [==============================] - 19s 1s/step - loss: 0.6242 - categorical_accuracy: 0.7690 - val_loss: 0.7983 - val_categorical_accuracy: 0.7400\n",
      "\n",
      "Epoch 00018: saving model to model_init_2021-03-0722_23_02.408022/model-00018-0.70232-0.74176-0.79828-0.74000.h5\n",
      "\n",
      "Epoch 00018: ReduceLROnPlateau reducing learning rate to 0.0002500000118743628.\n",
      "Epoch 19/20\n",
      "14/14 [==============================] - 21s 2s/step - loss: 0.6844 - categorical_accuracy: 0.7626 - val_loss: 0.8376 - val_categorical_accuracy: 0.6800\n",
      "\n",
      "Epoch 00019: saving model to model_init_2021-03-0722_23_02.408022/model-00019-0.68550-0.74176-0.83759-0.68000.h5\n",
      "Epoch 20/20\n",
      "14/14 [==============================] - 20s 2s/step - loss: 0.7011 - categorical_accuracy: 0.7308 - val_loss: 0.8472 - val_categorical_accuracy: 0.7200\n",
      "\n",
      "Epoch 00020: saving model to model_init_2021-03-0722_23_02.408022/model-00020-0.57530-0.80769-0.84723-0.72000.h5\n",
      "\n",
      "Epoch 00020: ReduceLROnPlateau reducing learning rate to 0.0001250000059371814.\n"
     ]
    }
   ],
   "source": [
    "# Model fit\n",
    "history = model_3.fit(train_generator, steps_per_epoch=steps_per_epoch, epochs=num_epochs, verbose=1, \n",
    "                    callbacks=callbacks_list, validation_data=val_generator, \n",
    "                    validation_steps=validation_steps, class_weight=None, workers=1, initial_epoch=0)"
   ]
  },
  {
   "cell_type": "code",
   "execution_count": 37,
   "metadata": {
    "id": "mckg6aYmWOuk"
   },
   "outputs": [
    {
     "name": "stdout",
     "output_type": "stream",
     "text": [
      "Model: \"sequential_2\"\n",
      "_________________________________________________________________\n",
      "Layer (type)                 Output Shape              Param #   \n",
      "=================================================================\n",
      "conv3d_6 (Conv3D)            (None, 15, 120, 120, 16)  1312      \n",
      "_________________________________________________________________\n",
      "activation_6 (Activation)    (None, 15, 120, 120, 16)  0         \n",
      "_________________________________________________________________\n",
      "max_pooling3d_6 (MaxPooling3 (None, 7, 60, 60, 16)     0         \n",
      "_________________________________________________________________\n",
      "conv3d_7 (Conv3D)            (None, 7, 60, 60, 32)     13856     \n",
      "_________________________________________________________________\n",
      "activation_7 (Activation)    (None, 7, 60, 60, 32)     0         \n",
      "_________________________________________________________________\n",
      "max_pooling3d_7 (MaxPooling3 (None, 3, 30, 30, 32)     0         \n",
      "_________________________________________________________________\n",
      "conv3d_8 (Conv3D)            (None, 3, 30, 30, 64)     55360     \n",
      "_________________________________________________________________\n",
      "activation_8 (Activation)    (None, 3, 30, 30, 64)     0         \n",
      "_________________________________________________________________\n",
      "max_pooling3d_8 (MaxPooling3 (None, 1, 15, 15, 64)     0         \n",
      "_________________________________________________________________\n",
      "dropout_2 (Dropout)          (None, 1, 15, 15, 64)     0         \n",
      "_________________________________________________________________\n",
      "flatten_2 (Flatten)          (None, 14400)             0         \n",
      "_________________________________________________________________\n",
      "dense_4 (Dense)              (None, 128)               1843328   \n",
      "_________________________________________________________________\n",
      "dropout_3 (Dropout)          (None, 128)               0         \n",
      "_________________________________________________________________\n",
      "dense_5 (Dense)              (None, 64)                8256      \n",
      "_________________________________________________________________\n",
      "dense_6 (Dense)              (None, 5)                 325       \n",
      "=================================================================\n",
      "Total params: 1,922,437\n",
      "Trainable params: 1,922,437\n",
      "Non-trainable params: 0\n",
      "_________________________________________________________________\n",
      "None\n"
     ]
    }
   ],
   "source": [
    "# Model summary\n",
    "print(model_3.summary())"
   ]
  },
  {
   "cell_type": "code",
   "execution_count": 38,
   "metadata": {
    "id": "WHxb89sRWPDu"
   },
   "outputs": [
    {
     "data": {
      "image/png": "[encoded data removed]",
      "text/plain": [
       "<Figure size 576x576 with 2 Axes>"
      ]
     },
     "metadata": {
      "needs_background": "light"
     },
     "output_type": "display_data"
    }
   ],
   "source": [
    "# Visualize the Model\n",
    "acc = history.history['categorical_accuracy']\n",
    "val_acc = history.history['val_categorical_accuracy']\n",
    "\n",
    "loss = history.history['loss']\n",
    "val_loss = history.history['val_loss']\n",
    "\n",
    "epochs_range = range(num_epochs)\n",
    "\n",
    "plt.figure(figsize=(8, 8))\n",
    "plt.subplot(1, 2, 1)\n",
    "plt.plot(epochs_range, acc, label='Training Categorical Accuracy')\n",
    "plt.plot(epochs_range, val_acc, label='Validation Categorical Accuracy')\n",
    "plt.legend(loc='lower right')\n",
    "plt.title('Training and Validation Accuracy')\n",
    "\n",
    "plt.subplot(1, 2, 2)\n",
    "plt.plot(epochs_range, loss, label='Training Loss')\n",
    "plt.plot(epochs_range, val_loss, label='Validation Loss')\n",
    "plt.legend(loc='upper right')\n",
    "plt.title('Training and Validation Loss')\n",
    "plt.show()"
   ]
  },
  {
   "cell_type": "markdown",
   "metadata": {
    "id": "kvysheffqe5g"
   },
   "source": [
    "## Experiment 6\n",
    "#### Model = model_3\n",
    "#### Type = Convolutional Neural Network\n",
    "#### Optimizer = Adam\n",
    "### num_epochs = 20\n",
    "#### batch_size = 50\n",
    "#### Generator = generator_resize"
   ]
  },
  {
   "cell_type": "code",
   "execution_count": 39,
   "metadata": {
    "id": "I-Je79PYqeCk"
   },
   "outputs": [],
   "source": [
    "train_generator = generator_crop_resize(train_path, train_doc, batch_size)\n",
    "val_generator = generator_crop_resize(val_path, val_doc, batch_size)"
   ]
  },
  {
   "cell_type": "code",
   "execution_count": 40,
   "metadata": {
    "id": "MXdIvDpvqeJ5"
   },
   "outputs": [],
   "source": [
    "# Compile the model\n",
    "opt = keras.optimizers.Adam(learning_rate=lr)\n",
    "model_3.compile(optimizer=opt, loss='categorical_crossentropy', metrics=['categorical_accuracy'])"
   ]
  },
  {
   "cell_type": "code",
   "execution_count": 41,
   "metadata": {
    "id": "WbUJK8PCqeQj"
   },
   "outputs": [
    {
     "name": "stdout",
     "output_type": "stream",
     "text": [
      "Source path =  ../input/project1/Project_data/train ; batch size = 50\n",
      "Epoch 1/20\n",
      "14/14 [==============================] - ETA: 0s - loss: 0.7881 - categorical_accuracy: 0.7249Source path =  ../input/project1/Project_data/val ; batch size = 50\n",
      "14/14 [==============================] - 48s 4s/step - loss: 0.7854 - categorical_accuracy: 0.7247 - val_loss: 0.7955 - val_categorical_accuracy: 0.6700\n",
      "\n",
      "Epoch 00001: saving model to model_init_2021-03-0722_23_02.408022/model-00001-0.74787-0.72247-0.79554-0.67000.h5\n",
      "Epoch 2/20\n",
      "14/14 [==============================] - 19s 1s/step - loss: 0.6507 - categorical_accuracy: 0.7394 - val_loss: 0.9187 - val_categorical_accuracy: 0.6400\n",
      "\n",
      "Epoch 00002: saving model to model_init_2021-03-0722_23_02.408022/model-00002-0.63597-0.75824-0.91873-0.64000.h5\n",
      "Epoch 3/20\n",
      "14/14 [==============================] - 19s 1s/step - loss: 0.6206 - categorical_accuracy: 0.7506 - val_loss: 1.1301 - val_categorical_accuracy: 0.5700\n",
      "\n",
      "Epoch 00003: saving model to model_init_2021-03-0722_23_02.408022/model-00003-0.71469-0.71978-1.13013-0.57000.h5\n",
      "\n",
      "Epoch 00003: ReduceLROnPlateau reducing learning rate to 0.0005000000237487257.\n",
      "Epoch 4/20\n",
      "14/14 [==============================] - 19s 1s/step - loss: 0.7526 - categorical_accuracy: 0.7297 - val_loss: 0.7374 - val_categorical_accuracy: 0.7300\n",
      "\n",
      "Epoch 00004: saving model to model_init_2021-03-0722_23_02.408022/model-00004-0.67954-0.75824-0.73742-0.73000.h5\n",
      "Epoch 5/20\n",
      "14/14 [==============================] - 19s 1s/step - loss: 0.7424 - categorical_accuracy: 0.7433 - val_loss: 0.8396 - val_categorical_accuracy: 0.6300\n",
      "\n",
      "Epoch 00005: saving model to model_init_2021-03-0722_23_02.408022/model-00005-0.67277-0.76374-0.83961-0.63000.h5\n",
      "Epoch 6/20\n",
      "14/14 [==============================] - 19s 1s/step - loss: 0.4820 - categorical_accuracy: 0.8130 - val_loss: 0.8142 - val_categorical_accuracy: 0.6800\n",
      "\n",
      "Epoch 00006: saving model to model_init_2021-03-0722_23_02.408022/model-00006-0.46081-0.81868-0.81424-0.68000.h5\n",
      "\n",
      "Epoch 00006: ReduceLROnPlateau reducing learning rate to 0.0002500000118743628.\n",
      "Epoch 7/20\n",
      "14/14 [==============================] - 19s 1s/step - loss: 0.5610 - categorical_accuracy: 0.8014 - val_loss: 0.7877 - val_categorical_accuracy: 0.7200\n",
      "\n",
      "Epoch 00007: saving model to model_init_2021-03-0722_23_02.408022/model-00007-0.47399-0.84066-0.78766-0.72000.h5\n",
      "Epoch 8/20\n",
      "14/14 [==============================] - 19s 1s/step - loss: 0.4030 - categorical_accuracy: 0.8662 - val_loss: 0.7084 - val_categorical_accuracy: 0.7400\n",
      "\n",
      "Epoch 00008: saving model to model_init_2021-03-0722_23_02.408022/model-00008-0.43712-0.85714-0.70837-0.74000.h5\n",
      "Epoch 9/20\n",
      "14/14 [==============================] - 19s 1s/step - loss: 0.4534 - categorical_accuracy: 0.8137 - val_loss: 0.8173 - val_categorical_accuracy: 0.7400\n",
      "\n",
      "Epoch 00009: saving model to model_init_2021-03-0722_23_02.408022/model-00009-0.41944-0.84615-0.81725-0.74000.h5\n",
      "Epoch 10/20\n",
      "14/14 [==============================] - 19s 1s/step - loss: 0.3533 - categorical_accuracy: 0.8900 - val_loss: 0.8451 - val_categorical_accuracy: 0.7400\n",
      "\n",
      "Epoch 00010: saving model to model_init_2021-03-0722_23_02.408022/model-00010-0.36817-0.87363-0.84508-0.74000.h5\n",
      "\n",
      "Epoch 00010: ReduceLROnPlateau reducing learning rate to 0.0001250000059371814.\n",
      "Epoch 11/20\n",
      "14/14 [==============================] - 19s 1s/step - loss: 0.3713 - categorical_accuracy: 0.8552 - val_loss: 0.8321 - val_categorical_accuracy: 0.7100\n",
      "\n",
      "Epoch 00011: saving model to model_init_2021-03-0722_23_02.408022/model-00011-0.40156-0.83516-0.83207-0.71000.h5\n",
      "Epoch 12/20\n",
      "14/14 [==============================] - 19s 1s/step - loss: 0.4311 - categorical_accuracy: 0.8376 - val_loss: 0.7267 - val_categorical_accuracy: 0.7300\n",
      "\n",
      "Epoch 00012: saving model to model_init_2021-03-0722_23_02.408022/model-00012-0.42051-0.81868-0.72671-0.73000.h5\n",
      "\n",
      "Epoch 00012: ReduceLROnPlateau reducing learning rate to 6.25000029685907e-05.\n",
      "Epoch 13/20\n",
      "14/14 [==============================] - 19s 1s/step - loss: 0.3510 - categorical_accuracy: 0.8563 - val_loss: 0.8399 - val_categorical_accuracy: 0.7200\n",
      "\n",
      "Epoch 00013: saving model to model_init_2021-03-0722_23_02.408022/model-00013-0.31649-0.89560-0.83993-0.72000.h5\n",
      "Epoch 14/20\n",
      "14/14 [==============================] - 19s 1s/step - loss: 0.3917 - categorical_accuracy: 0.8331 - val_loss: 0.7857 - val_categorical_accuracy: 0.6900\n",
      "\n",
      "Epoch 00014: saving model to model_init_2021-03-0722_23_02.408022/model-00014-0.36828-0.83516-0.78574-0.69000.h5\n",
      "\n",
      "Epoch 00014: ReduceLROnPlateau reducing learning rate to 3.125000148429535e-05.\n",
      "Epoch 15/20\n",
      "14/14 [==============================] - 19s 1s/step - loss: 0.3122 - categorical_accuracy: 0.9086 - val_loss: 0.7831 - val_categorical_accuracy: 0.7400\n",
      "\n",
      "Epoch 00015: saving model to model_init_2021-03-0722_23_02.408022/model-00015-0.32354-0.90659-0.78311-0.74000.h5\n",
      "Epoch 16/20\n",
      "14/14 [==============================] - 19s 1s/step - loss: 0.3437 - categorical_accuracy: 0.8803 - val_loss: 0.8132 - val_categorical_accuracy: 0.7600\n",
      "\n",
      "Epoch 00016: saving model to model_init_2021-03-0722_23_02.408022/model-00016-0.34597-0.87912-0.81319-0.76000.h5\n",
      "\n",
      "Epoch 00016: ReduceLROnPlateau reducing learning rate to 1.5625000742147677e-05.\n",
      "Epoch 17/20\n",
      "14/14 [==============================] - 19s 1s/step - loss: 0.2920 - categorical_accuracy: 0.9187 - val_loss: 0.8100 - val_categorical_accuracy: 0.7300\n",
      "\n",
      "Epoch 00017: saving model to model_init_2021-03-0722_23_02.408022/model-00017-0.28018-0.90110-0.81000-0.73000.h5\n",
      "Epoch 18/20\n",
      "14/14 [==============================] - 19s 1s/step - loss: 0.3672 - categorical_accuracy: 0.8947 - val_loss: 0.7316 - val_categorical_accuracy: 0.7600\n",
      "\n",
      "Epoch 00018: saving model to model_init_2021-03-0722_23_02.408022/model-00018-0.34237-0.88462-0.73164-0.76000.h5\n",
      "\n",
      "Epoch 00018: ReduceLROnPlateau reducing learning rate to 7.812500371073838e-06.\n",
      "Epoch 19/20\n",
      "14/14 [==============================] - 19s 1s/step - loss: 0.3316 - categorical_accuracy: 0.8937 - val_loss: 0.8024 - val_categorical_accuracy: 0.7400\n",
      "\n",
      "Epoch 00019: saving model to model_init_2021-03-0722_23_02.408022/model-00019-0.35071-0.87912-0.80239-0.74000.h5\n",
      "Epoch 20/20\n",
      "14/14 [==============================] - 20s 2s/step - loss: 0.3134 - categorical_accuracy: 0.8950 - val_loss: 0.7112 - val_categorical_accuracy: 0.7700\n",
      "\n",
      "Epoch 00020: saving model to model_init_2021-03-0722_23_02.408022/model-00020-0.31795-0.89011-0.71124-0.77000.h5\n",
      "\n",
      "Epoch 00020: ReduceLROnPlateau reducing learning rate to 3.906250185536919e-06.\n"
     ]
    }
   ],
   "source": [
    "# Fit the model\n",
    "history = model_3.fit(train_generator, steps_per_epoch=steps_per_epoch, epochs=num_epochs, verbose=1, \n",
    "                    callbacks=callbacks_list, validation_data=val_generator, \n",
    "                    validation_steps=validation_steps, class_weight=None, workers=1, initial_epoch=0)"
   ]
  },
  {
   "cell_type": "code",
   "execution_count": 42,
   "metadata": {
    "id": "XUSM5J9aqeXV"
   },
   "outputs": [
    {
     "name": "stdout",
     "output_type": "stream",
     "text": [
      "Model: \"sequential_2\"\n",
      "_________________________________________________________________\n",
      "Layer (type)                 Output Shape              Param #   \n",
      "=================================================================\n",
      "conv3d_6 (Conv3D)            (None, 15, 120, 120, 16)  1312      \n",
      "_________________________________________________________________\n",
      "activation_6 (Activation)    (None, 15, 120, 120, 16)  0         \n",
      "_________________________________________________________________\n",
      "max_pooling3d_6 (MaxPooling3 (None, 7, 60, 60, 16)     0         \n",
      "_________________________________________________________________\n",
      "conv3d_7 (Conv3D)            (None, 7, 60, 60, 32)     13856     \n",
      "_________________________________________________________________\n",
      "activation_7 (Activation)    (None, 7, 60, 60, 32)     0         \n",
      "_________________________________________________________________\n",
      "max_pooling3d_7 (MaxPooling3 (None, 3, 30, 30, 32)     0         \n",
      "_________________________________________________________________\n",
      "conv3d_8 (Conv3D)            (None, 3, 30, 30, 64)     55360     \n",
      "_________________________________________________________________\n",
      "activation_8 (Activation)    (None, 3, 30, 30, 64)     0         \n",
      "_________________________________________________________________\n",
      "max_pooling3d_8 (MaxPooling3 (None, 1, 15, 15, 64)     0         \n",
      "_________________________________________________________________\n",
      "dropout_2 (Dropout)          (None, 1, 15, 15, 64)     0         \n",
      "_________________________________________________________________\n",
      "flatten_2 (Flatten)          (None, 14400)             0         \n",
      "_________________________________________________________________\n",
      "dense_4 (Dense)              (None, 128)               1843328   \n",
      "_________________________________________________________________\n",
      "dropout_3 (Dropout)          (None, 128)               0         \n",
      "_________________________________________________________________\n",
      "dense_5 (Dense)              (None, 64)                8256      \n",
      "_________________________________________________________________\n",
      "dense_6 (Dense)              (None, 5)                 325       \n",
      "=================================================================\n",
      "Total params: 1,922,437\n",
      "Trainable params: 1,922,437\n",
      "Non-trainable params: 0\n",
      "_________________________________________________________________\n",
      "None\n"
     ]
    }
   ],
   "source": [
    "# Model summary\n",
    "print(model_3.summary())"
   ]
  },
  {
   "cell_type": "code",
   "execution_count": 43,
   "metadata": {
    "id": "DmNfQzNtqeeT"
   },
   "outputs": [
    {
     "data": {
      "image/png": "[encoded data removed]",
      "text/plain": [
       "<Figure size 576x576 with 2 Axes>"
      ]
     },
     "metadata": {
      "needs_background": "light"
     },
     "output_type": "display_data"
    }
   ],
   "source": [
    "# Visualize the Model\n",
    "acc = history.history['categorical_accuracy']\n",
    "val_acc = history.history['val_categorical_accuracy']\n",
    "\n",
    "loss = history.history['loss']\n",
    "val_loss = history.history['val_loss']\n",
    "\n",
    "epochs_range = range(num_epochs)\n",
    "\n",
    "plt.figure(figsize=(8, 8))\n",
    "plt.subplot(1, 2, 1)\n",
    "plt.plot(epochs_range, acc, label='Training Categorical Accuracy')\n",
    "plt.plot(epochs_range, val_acc, label='Validation Categorical Accuracy')\n",
    "plt.legend(loc='lower right')\n",
    "plt.title('Training and Validation Accuracy')\n",
    "\n",
    "plt.subplot(1, 2, 2)\n",
    "plt.plot(epochs_range, loss, label='Training Loss')\n",
    "plt.plot(epochs_range, val_loss, label='Validation Loss')\n",
    "plt.legend(loc='upper right')\n",
    "plt.title('Training and Validation Loss')\n",
    "plt.show()"
   ]
  },
  {
   "cell_type": "markdown",
   "metadata": {
    "id": "9BrE_KaiYlcb"
   },
   "source": [
    "# Model 4\n",
    "# Timedistributed - Conv2D + RNN model"
   ]
  },
  {
   "cell_type": "code",
   "execution_count": 44,
   "metadata": {
    "id": "GTJk4crHY9xq"
   },
   "outputs": [],
   "source": [
    "# Define the model\n",
    "model_4 = Sequential()\n",
    "model_4.add(TimeDistributed(Conv2D(16, kernel_size=(3,3), padding='same',strides=(2,2),activation='relu'),input_shape=(30//img_select,img_width,img_height,channel)))\n",
    "model_4.add(TimeDistributed(MaxPooling2D(pool_size=(2, 2),strides=(2,2))))\n",
    "model_4.add(TimeDistributed(Conv2D(32, kernel_size=(3,3), padding='same',strides=(2,2),activation='relu')))\n",
    "model_4.add(TimeDistributed(MaxPooling2D(pool_size=(2, 2),strides=(2,2))))\n",
    "model_4.add(TimeDistributed(Conv2D(64, kernel_size=(3,3), padding='same',strides=(2,2),activation='relu')))\n",
    "model_4.add(TimeDistributed(MaxPooling2D(pool_size=(2, 2),strides=(2,2))))\n",
    "model_4.add(Dropout(0.25))\n",
    "model_4.add(TimeDistributed(Flatten()))\n",
    "model_4.add(LSTM(128, activation='relu'))\n",
    "model_4.add(Dense(128,activation='relu'))\n",
    "model_4.add(Dropout(0.25))\n",
    "model_4.add(Dense(64,activation='relu'))\n",
    "model_4.add(Dense(5,activation='softmax'))"
   ]
  },
  {
   "cell_type": "markdown",
   "metadata": {
    "id": "p_JhMMMlf2oA"
   },
   "source": [
    "## Experiment 7\n",
    "#### Model = model_4\n",
    "#### Type = Timedistributed - Conv2D + RNN (LSTM)\n",
    "#### Optimizer = Adam\n",
    "#### num_epochs = 20\n",
    "#### batch_size = 50\n",
    "#### Generator = generator_crop_resize"
   ]
  },
  {
   "cell_type": "code",
   "execution_count": 45,
   "metadata": {
    "id": "4mK5ffKbgJ6S"
   },
   "outputs": [],
   "source": [
    "# Defining variable\n",
    "num_epochs = 20\n",
    "batch_size = 50"
   ]
  },
  {
   "cell_type": "code",
   "execution_count": 46,
   "metadata": {
    "id": "rOmNwxO3f_UH"
   },
   "outputs": [],
   "source": [
    "train_generator = generator_crop_resize(train_path, train_doc, batch_size)\n",
    "val_generator = generator_crop_resize(val_path, val_doc, batch_size)"
   ]
  },
  {
   "cell_type": "code",
   "execution_count": 47,
   "metadata": {
    "id": "v9mwaEvmf_XS"
   },
   "outputs": [],
   "source": [
    "# Compile the model\n",
    "opt = keras.optimizers.Adam(learning_rate=lr)\n",
    "model_4.compile(optimizer=opt, loss='categorical_crossentropy', metrics=['categorical_accuracy'])"
   ]
  },
  {
   "cell_type": "code",
   "execution_count": 48,
   "metadata": {
    "id": "FKJAzAYef_aW"
   },
   "outputs": [
    {
     "name": "stdout",
     "output_type": "stream",
     "text": [
      "Source path =  ../input/project1/Project_data/train ; batch size = 50\n",
      "Epoch 1/20\n",
      "14/14 [==============================] - ETA: 0s - loss: 1.6096 - categorical_accuracy: 0.1913Source path =  ../input/project1/Project_data/val ; batch size = 50\n",
      "14/14 [==============================] - 46s 3s/step - loss: 1.6095 - categorical_accuracy: 0.1919 - val_loss: 1.5933 - val_categorical_accuracy: 0.2300\n",
      "\n",
      "Epoch 00001: saving model to model_init_2021-03-0722_23_02.408022/model-00001-1.60734-0.20060-1.59327-0.23000.h5\n",
      "Epoch 2/20\n",
      "14/14 [==============================] - 20s 2s/step - loss: 1.5763 - categorical_accuracy: 0.2622 - val_loss: 1.5464 - val_categorical_accuracy: 0.2600\n",
      "\n",
      "Epoch 00002: saving model to model_init_2021-03-0722_23_02.408022/model-00002-1.56936-0.28022-1.54641-0.26000.h5\n",
      "Epoch 3/20\n",
      "14/14 [==============================] - 19s 1s/step - loss: 1.6235 - categorical_accuracy: 0.1684 - val_loss: 1.6017 - val_categorical_accuracy: 0.2900\n",
      "\n",
      "Epoch 00003: saving model to model_init_2021-03-0722_23_02.408022/model-00003-1.61431-0.19780-1.60172-0.29000.h5\n",
      "Epoch 4/20\n",
      "14/14 [==============================] - 20s 2s/step - loss: 1.6071 - categorical_accuracy: 0.2079 - val_loss: 1.5964 - val_categorical_accuracy: 0.4300\n",
      "\n",
      "Epoch 00004: saving model to model_init_2021-03-0722_23_02.408022/model-00004-1.60468-0.24725-1.59642-0.43000.h5\n",
      "\n",
      "Epoch 00004: ReduceLROnPlateau reducing learning rate to 0.0005000000237487257.\n",
      "Epoch 5/20\n",
      "14/14 [==============================] - 19s 1s/step - loss: 1.5946 - categorical_accuracy: 0.2841 - val_loss: 1.5733 - val_categorical_accuracy: 0.3100\n",
      "\n",
      "Epoch 00005: saving model to model_init_2021-03-0722_23_02.408022/model-00005-1.59389-0.25824-1.57331-0.31000.h5\n",
      "Epoch 6/20\n",
      "14/14 [==============================] - 19s 1s/step - loss: 1.5589 - categorical_accuracy: 0.2530 - val_loss: 1.5423 - val_categorical_accuracy: 0.2100\n",
      "\n",
      "Epoch 00006: saving model to model_init_2021-03-0722_23_02.408022/model-00006-1.52630-0.24725-1.54226-0.21000.h5\n",
      "Epoch 7/20\n",
      "14/14 [==============================] - 19s 1s/step - loss: 1.5327 - categorical_accuracy: 0.2633 - val_loss: 1.6152 - val_categorical_accuracy: 0.2400\n",
      "\n",
      "Epoch 00007: saving model to model_init_2021-03-0722_23_02.408022/model-00007-1.53038-0.24725-1.61524-0.24000.h5\n",
      "Epoch 8/20\n",
      "14/14 [==============================] - 19s 1s/step - loss: 1.5886 - categorical_accuracy: 0.2387 - val_loss: 1.3521 - val_categorical_accuracy: 0.3100\n",
      "\n",
      "Epoch 00008: saving model to model_init_2021-03-0722_23_02.408022/model-00008-1.56129-0.28022-1.35213-0.31000.h5\n",
      "Epoch 9/20\n",
      "14/14 [==============================] - 19s 1s/step - loss: 1.4593 - categorical_accuracy: 0.3501 - val_loss: 1.3765 - val_categorical_accuracy: 0.3100\n",
      "\n",
      "Epoch 00009: saving model to model_init_2021-03-0722_23_02.408022/model-00009-1.45866-0.33516-1.37647-0.31000.h5\n",
      "Epoch 10/20\n",
      "14/14 [==============================] - 19s 1s/step - loss: 1.4688 - categorical_accuracy: 0.3726 - val_loss: 1.4011 - val_categorical_accuracy: 0.3500\n",
      "\n",
      "Epoch 00010: saving model to model_init_2021-03-0722_23_02.408022/model-00010-1.46856-0.37363-1.40113-0.35000.h5\n",
      "\n",
      "Epoch 00010: ReduceLROnPlateau reducing learning rate to 0.0002500000118743628.\n",
      "Epoch 11/20\n",
      "14/14 [==============================] - 19s 1s/step - loss: 1.3895 - categorical_accuracy: 0.3839 - val_loss: 1.3339 - val_categorical_accuracy: 0.4700\n",
      "\n",
      "Epoch 00011: saving model to model_init_2021-03-0722_23_02.408022/model-00011-1.40317-0.36264-1.33388-0.47000.h5\n",
      "Epoch 12/20\n",
      "14/14 [==============================] - 19s 1s/step - loss: 1.3312 - categorical_accuracy: 0.4356 - val_loss: 1.3061 - val_categorical_accuracy: 0.4000\n",
      "\n",
      "Epoch 00012: saving model to model_init_2021-03-0722_23_02.408022/model-00012-1.30768-0.43407-1.30607-0.40000.h5\n",
      "Epoch 13/20\n",
      "14/14 [==============================] - 19s 1s/step - loss: 1.2677 - categorical_accuracy: 0.4702 - val_loss: 1.3949 - val_categorical_accuracy: 0.4300\n",
      "\n",
      "Epoch 00013: saving model to model_init_2021-03-0722_23_02.408022/model-00013-1.24645-0.42857-1.39494-0.43000.h5\n",
      "Epoch 14/20\n",
      "14/14 [==============================] - 19s 1s/step - loss: 1.4454 - categorical_accuracy: 0.3835 - val_loss: 1.3921 - val_categorical_accuracy: 0.3500\n",
      "\n",
      "Epoch 00014: saving model to model_init_2021-03-0722_23_02.408022/model-00014-1.35309-0.41209-1.39208-0.35000.h5\n",
      "\n",
      "Epoch 00014: ReduceLROnPlateau reducing learning rate to 0.0001250000059371814.\n",
      "Epoch 15/20\n",
      "14/14 [==============================] - 19s 1s/step - loss: 1.3239 - categorical_accuracy: 0.3745 - val_loss: 1.2778 - val_categorical_accuracy: 0.4900\n",
      "\n",
      "Epoch 00015: saving model to model_init_2021-03-0722_23_02.408022/model-00015-1.32618-0.37912-1.27783-0.49000.h5\n",
      "Epoch 16/20\n",
      "14/14 [==============================] - 18s 1s/step - loss: 1.2406 - categorical_accuracy: 0.4328 - val_loss: 1.1775 - val_categorical_accuracy: 0.5600\n",
      "\n",
      "Epoch 00016: saving model to model_init_2021-03-0722_23_02.408022/model-00016-1.25729-0.43956-1.17752-0.56000.h5\n",
      "Epoch 17/20\n",
      "14/14 [==============================] - 19s 1s/step - loss: 1.1998 - categorical_accuracy: 0.4635 - val_loss: 1.2008 - val_categorical_accuracy: 0.5100\n",
      "\n",
      "Epoch 00017: saving model to model_init_2021-03-0722_23_02.408022/model-00017-1.16526-0.47253-1.20085-0.51000.h5\n",
      "Epoch 18/20\n",
      "14/14 [==============================] - 19s 1s/step - loss: 1.2394 - categorical_accuracy: 0.5272 - val_loss: 1.2887 - val_categorical_accuracy: 0.4200\n",
      "\n",
      "Epoch 00018: saving model to model_init_2021-03-0722_23_02.408022/model-00018-1.21326-0.50549-1.28873-0.42000.h5\n",
      "\n",
      "Epoch 00018: ReduceLROnPlateau reducing learning rate to 6.25000029685907e-05.\n",
      "Epoch 19/20\n",
      "14/14 [==============================] - 20s 1s/step - loss: 1.1016 - categorical_accuracy: 0.5044 - val_loss: 1.1672 - val_categorical_accuracy: 0.5300\n",
      "\n",
      "Epoch 00019: saving model to model_init_2021-03-0722_23_02.408022/model-00019-1.13847-0.48901-1.16717-0.53000.h5\n",
      "Epoch 20/20\n",
      "14/14 [==============================] - 19s 1s/step - loss: 1.1140 - categorical_accuracy: 0.4911 - val_loss: 1.1565 - val_categorical_accuracy: 0.5200\n",
      "\n",
      "Epoch 00020: saving model to model_init_2021-03-0722_23_02.408022/model-00020-1.15074-0.46154-1.15648-0.52000.h5\n"
     ]
    }
   ],
   "source": [
    "# Fit the model\n",
    "history = model_4.fit(train_generator, steps_per_epoch=steps_per_epoch, epochs=num_epochs, verbose=1, \n",
    "                    callbacks=callbacks_list, validation_data=val_generator, \n",
    "                    validation_steps=validation_steps, class_weight=None, workers=1, initial_epoch=0)"
   ]
  },
  {
   "cell_type": "code",
   "execution_count": 49,
   "metadata": {
    "id": "kR6dDbzVf_cr"
   },
   "outputs": [
    {
     "name": "stdout",
     "output_type": "stream",
     "text": [
      "Model: \"sequential_3\"\n",
      "_________________________________________________________________\n",
      "Layer (type)                 Output Shape              Param #   \n",
      "=================================================================\n",
      "time_distributed (TimeDistri (None, 15, 60, 60, 16)    448       \n",
      "_________________________________________________________________\n",
      "time_distributed_1 (TimeDist (None, 15, 30, 30, 16)    0         \n",
      "_________________________________________________________________\n",
      "time_distributed_2 (TimeDist (None, 15, 15, 15, 32)    4640      \n",
      "_________________________________________________________________\n",
      "time_distributed_3 (TimeDist (None, 15, 7, 7, 32)      0         \n",
      "_________________________________________________________________\n",
      "time_distributed_4 (TimeDist (None, 15, 4, 4, 64)      18496     \n",
      "_________________________________________________________________\n",
      "time_distributed_5 (TimeDist (None, 15, 2, 2, 64)      0         \n",
      "_________________________________________________________________\n",
      "dropout_4 (Dropout)          (None, 15, 2, 2, 64)      0         \n",
      "_________________________________________________________________\n",
      "time_distributed_6 (TimeDist (None, 15, 256)           0         \n",
      "_________________________________________________________________\n",
      "lstm (LSTM)                  (None, 128)               197120    \n",
      "_________________________________________________________________\n",
      "dense_7 (Dense)              (None, 128)               16512     \n",
      "_________________________________________________________________\n",
      "dropout_5 (Dropout)          (None, 128)               0         \n",
      "_________________________________________________________________\n",
      "dense_8 (Dense)              (None, 64)                8256      \n",
      "_________________________________________________________________\n",
      "dense_9 (Dense)              (None, 5)                 325       \n",
      "=================================================================\n",
      "Total params: 245,797\n",
      "Trainable params: 245,797\n",
      "Non-trainable params: 0\n",
      "_________________________________________________________________\n",
      "None\n"
     ]
    }
   ],
   "source": [
    "# Model summary\n",
    "print(model_4.summary())"
   ]
  },
  {
   "cell_type": "code",
   "execution_count": 50,
   "metadata": {
    "id": "WZPQYjcAgtIH"
   },
   "outputs": [
    {
     "data": {
      "image/png": "[encoded data removed]",
      "text/plain": [
       "<Figure size 576x576 with 2 Axes>"
      ]
     },
     "metadata": {
      "needs_background": "light"
     },
     "output_type": "display_data"
    }
   ],
   "source": [
    "# Visualize the Model\n",
    "acc = history.history['categorical_accuracy']\n",
    "val_acc = history.history['val_categorical_accuracy']\n",
    "\n",
    "loss = history.history['loss']\n",
    "val_loss = history.history['val_loss']\n",
    "\n",
    "epochs_range = range(num_epochs)\n",
    "\n",
    "plt.figure(figsize=(8, 8))\n",
    "plt.subplot(1, 2, 1)\n",
    "plt.plot(epochs_range, acc, label='Training Categorical Accuracy')\n",
    "plt.plot(epochs_range, val_acc, label='Validation Categorical Accuracy')\n",
    "plt.legend(loc='lower right')\n",
    "plt.title('Training and Validation Accuracy')\n",
    "\n",
    "plt.subplot(1, 2, 2)\n",
    "plt.plot(epochs_range, loss, label='Training Loss')\n",
    "plt.plot(epochs_range, val_loss, label='Validation Loss')\n",
    "plt.legend(loc='upper right')\n",
    "plt.title('Training and Validation Loss')\n",
    "plt.show()"
   ]
  },
  {
   "cell_type": "markdown",
   "metadata": {
    "id": "epUxYDXZggej"
   },
   "source": [
    "# Model 5\n",
    "# Timedistributed - Conv2D + RNN model"
   ]
  },
  {
   "cell_type": "code",
   "execution_count": 51,
   "metadata": {
    "id": "59SV2Qnpgbi_"
   },
   "outputs": [],
   "source": [
    "# Define the model\n",
    "model_5 = Sequential()\n",
    "model_5.add(TimeDistributed(Conv2D(16, kernel_size=(3,3), padding='same',strides=(2,2),activation='relu'),input_shape=(30//img_select,img_width,img_height,channel)))\n",
    "model_5.add(TimeDistributed(MaxPooling2D(pool_size=(2, 2),strides=(2,2))))\n",
    "model_5.add(TimeDistributed(Conv2D(32, kernel_size=(3,3), padding='same',strides=(2,2),activation='relu')))\n",
    "model_5.add(TimeDistributed(MaxPooling2D(pool_size=(2, 2),strides=(2,2))))\n",
    "model_5.add(TimeDistributed(Conv2D(64, kernel_size=(3,3), padding='same',strides=(2,2),activation='relu')))\n",
    "model_5.add(TimeDistributed(MaxPooling2D(pool_size=(2, 2),strides=(2,2))))\n",
    "model_5.add(Dropout(0.25))\n",
    "model_5.add(TimeDistributed(Flatten()))\n",
    "model_5.add(GRU(128,activation='relu'))\n",
    "model_5.add(Dense(128,activation='relu'))\n",
    "model_5.add(Dropout(0.25))\n",
    "model_5.add(Dense(64,activation='relu'))\n",
    "model_5.add(Dense(5,activation='softmax'))"
   ]
  },
  {
   "cell_type": "markdown",
   "metadata": {
    "id": "WFgWlk4Ugxga"
   },
   "source": [
    "## Experiment 8\n",
    "#### Model = model_5\n",
    "#### Type = Timedistributed - Conv2D + RNN (GRU)\n",
    "#### Optimizer = Adam\n",
    "#### num_epochs = 20\n",
    "#### batch_size = 50\n",
    "#### Generator = generator_crop_resize"
   ]
  },
  {
   "cell_type": "code",
   "execution_count": 52,
   "metadata": {
    "id": "dopiDlRhgfp_"
   },
   "outputs": [],
   "source": [
    "# Defining variable\n",
    "num_epochs = 30\n",
    "batch_size = 50"
   ]
  },
  {
   "cell_type": "code",
   "execution_count": 53,
   "metadata": {
    "id": "zvSOEuHDgf5A"
   },
   "outputs": [],
   "source": [
    "train_generator = generator_crop_resize(train_path, train_doc, batch_size)\n",
    "val_generator = generator_crop_resize(val_path, val_doc, batch_size)"
   ]
  },
  {
   "cell_type": "code",
   "execution_count": 54,
   "metadata": {
    "id": "6OkYjH4cggBs"
   },
   "outputs": [],
   "source": [
    "# Compile the model\n",
    "opt = keras.optimizers.Adam(learning_rate=lr)\n",
    "model_5.compile(optimizer=opt, loss='categorical_crossentropy', metrics=['categorical_accuracy'])"
   ]
  },
  {
   "cell_type": "code",
   "execution_count": 55,
   "metadata": {
    "id": "aZugSVU3ggGS"
   },
   "outputs": [
    {
     "name": "stdout",
     "output_type": "stream",
     "text": [
      "Source path =  ../input/project1/Project_data/train ; batch size = 50\n",
      "Epoch 1/30\n",
      "14/14 [==============================] - ETA: 0s - loss: 1.6080 - categorical_accuracy: 0.2070Source path =  ../input/project1/Project_data/val ; batch size = 50\n",
      "14/14 [==============================] - 45s 3s/step - loss: 1.6079 - categorical_accuracy: 0.2058 - val_loss: 1.5956 - val_categorical_accuracy: 0.2000\n",
      "\n",
      "Epoch 00001: saving model to model_init_2021-03-0722_23_02.408022/model-00001-1.60743-0.19005-1.59563-0.20000.h5\n",
      "Epoch 2/30\n",
      "14/14 [==============================] - 20s 2s/step - loss: 1.5990 - categorical_accuracy: 0.1548 - val_loss: 1.5876 - val_categorical_accuracy: 0.1800\n",
      "\n",
      "Epoch 00002: saving model to model_init_2021-03-0722_23_02.408022/model-00002-1.60367-0.17582-1.58760-0.18000.h5\n",
      "Epoch 3/30\n",
      "14/14 [==============================] - 19s 1s/step - loss: 1.5945 - categorical_accuracy: 0.2186 - val_loss: 1.5854 - val_categorical_accuracy: 0.2400\n",
      "\n",
      "Epoch 00003: saving model to model_init_2021-03-0722_23_02.408022/model-00003-1.58451-0.19780-1.58544-0.24000.h5\n",
      "Epoch 4/30\n",
      "14/14 [==============================] - 19s 1s/step - loss: 1.6150 - categorical_accuracy: 0.1963 - val_loss: 1.5768 - val_categorical_accuracy: 0.2500\n",
      "\n",
      "Epoch 00004: saving model to model_init_2021-03-0722_23_02.408022/model-00004-1.60306-0.22527-1.57680-0.25000.h5\n",
      "Epoch 5/30\n",
      "14/14 [==============================] - 20s 1s/step - loss: 1.5579 - categorical_accuracy: 0.2556 - val_loss: 1.5876 - val_categorical_accuracy: 0.2300\n",
      "\n",
      "Epoch 00005: saving model to model_init_2021-03-0722_23_02.408022/model-00005-1.54086-0.29121-1.58765-0.23000.h5\n",
      "Epoch 6/30\n",
      "14/14 [==============================] - 19s 1s/step - loss: 1.5810 - categorical_accuracy: 0.2561 - val_loss: 1.4826 - val_categorical_accuracy: 0.3100\n",
      "\n",
      "Epoch 00006: saving model to model_init_2021-03-0722_23_02.408022/model-00006-1.55054-0.29670-1.48264-0.31000.h5\n",
      "Epoch 7/30\n",
      "14/14 [==============================] - 19s 1s/step - loss: 1.5477 - categorical_accuracy: 0.3005 - val_loss: 1.4432 - val_categorical_accuracy: 0.3600\n",
      "\n",
      "Epoch 00007: saving model to model_init_2021-03-0722_23_02.408022/model-00007-1.53704-0.31868-1.44315-0.36000.h5\n",
      "Epoch 8/30\n",
      "14/14 [==============================] - 19s 1s/step - loss: 1.4131 - categorical_accuracy: 0.3782 - val_loss: 1.3916 - val_categorical_accuracy: 0.4000\n",
      "\n",
      "Epoch 00008: saving model to model_init_2021-03-0722_23_02.408022/model-00008-1.45201-0.36264-1.39161-0.40000.h5\n",
      "Epoch 9/30\n",
      "14/14 [==============================] - 20s 2s/step - loss: 1.3322 - categorical_accuracy: 0.4173 - val_loss: 1.2455 - val_categorical_accuracy: 0.4600\n",
      "\n",
      "Epoch 00009: saving model to model_init_2021-03-0722_23_02.408022/model-00009-1.35312-0.41758-1.24550-0.46000.h5\n",
      "Epoch 10/30\n",
      "14/14 [==============================] - 19s 1s/step - loss: 1.2429 - categorical_accuracy: 0.4886 - val_loss: 1.2086 - val_categorical_accuracy: 0.4900\n",
      "\n",
      "Epoch 00010: saving model to model_init_2021-03-0722_23_02.408022/model-00010-1.22154-0.49451-1.20863-0.49000.h5\n",
      "Epoch 11/30\n",
      "14/14 [==============================] - 18s 1s/step - loss: 1.2415 - categorical_accuracy: 0.4983 - val_loss: 1.2884 - val_categorical_accuracy: 0.4800\n",
      "\n",
      "Epoch 00011: saving model to model_init_2021-03-0722_23_02.408022/model-00011-1.21544-0.47253-1.28839-0.48000.h5\n",
      "Epoch 12/30\n",
      "14/14 [==============================] - 20s 2s/step - loss: 1.2350 - categorical_accuracy: 0.4781 - val_loss: 1.1767 - val_categorical_accuracy: 0.4900\n",
      "\n",
      "Epoch 00012: saving model to model_init_2021-03-0722_23_02.408022/model-00012-1.34074-0.45055-1.17666-0.49000.h5\n",
      "Epoch 13/30\n",
      "14/14 [==============================] - 19s 1s/step - loss: 1.2404 - categorical_accuracy: 0.4071 - val_loss: 1.1821 - val_categorical_accuracy: 0.4600\n",
      "\n",
      "Epoch 00013: saving model to model_init_2021-03-0722_23_02.408022/model-00013-1.23050-0.46154-1.18209-0.46000.h5\n",
      "Epoch 14/30\n",
      "14/14 [==============================] - 19s 1s/step - loss: 1.1799 - categorical_accuracy: 0.5594 - val_loss: 1.0729 - val_categorical_accuracy: 0.5600\n",
      "\n",
      "Epoch 00014: saving model to model_init_2021-03-0722_23_02.408022/model-00014-1.14280-0.58242-1.07286-0.56000.h5\n",
      "Epoch 15/30\n",
      "14/14 [==============================] - 19s 1s/step - loss: 1.0818 - categorical_accuracy: 0.5971 - val_loss: 1.2041 - val_categorical_accuracy: 0.5000\n",
      "\n",
      "Epoch 00015: saving model to model_init_2021-03-0722_23_02.408022/model-00015-1.04217-0.56044-1.20410-0.50000.h5\n",
      "Epoch 16/30\n",
      "14/14 [==============================] - 19s 1s/step - loss: 1.0987 - categorical_accuracy: 0.5921 - val_loss: 1.2426 - val_categorical_accuracy: 0.4800\n",
      "\n",
      "Epoch 00016: saving model to model_init_2021-03-0722_23_02.408022/model-00016-1.09673-0.56044-1.24262-0.48000.h5\n",
      "\n",
      "Epoch 00016: ReduceLROnPlateau reducing learning rate to 0.0005000000237487257.\n",
      "Epoch 17/30\n",
      "14/14 [==============================] - 19s 1s/step - loss: 1.0070 - categorical_accuracy: 0.5851 - val_loss: 1.0104 - val_categorical_accuracy: 0.6100\n",
      "\n",
      "Epoch 00017: saving model to model_init_2021-03-0722_23_02.408022/model-00017-0.96378-0.61538-1.01038-0.61000.h5\n",
      "Epoch 18/30\n",
      "14/14 [==============================] - 19s 1s/step - loss: 0.8446 - categorical_accuracy: 0.7061 - val_loss: 1.1256 - val_categorical_accuracy: 0.5900\n",
      "\n",
      "Epoch 00018: saving model to model_init_2021-03-0722_23_02.408022/model-00018-0.85333-0.68681-1.12561-0.59000.h5\n",
      "Epoch 19/30\n",
      "14/14 [==============================] - 19s 1s/step - loss: 0.8329 - categorical_accuracy: 0.6924 - val_loss: 1.0027 - val_categorical_accuracy: 0.6500\n",
      "\n",
      "Epoch 00019: saving model to model_init_2021-03-0722_23_02.408022/model-00019-0.81749-0.70330-1.00273-0.65000.h5\n",
      "Epoch 20/30\n",
      "14/14 [==============================] - 19s 1s/step - loss: 0.7910 - categorical_accuracy: 0.6670 - val_loss: 0.9328 - val_categorical_accuracy: 0.6800\n",
      "\n",
      "Epoch 00020: saving model to model_init_2021-03-0722_23_02.408022/model-00020-0.82497-0.67033-0.93283-0.68000.h5\n",
      "Epoch 21/30\n",
      "14/14 [==============================] - 19s 1s/step - loss: 0.6735 - categorical_accuracy: 0.7139 - val_loss: 1.0737 - val_categorical_accuracy: 0.5700\n",
      "\n",
      "Epoch 00021: saving model to model_init_2021-03-0722_23_02.408022/model-00021-0.72042-0.71429-1.07367-0.57000.h5\n",
      "Epoch 22/30\n",
      "14/14 [==============================] - 19s 1s/step - loss: 0.8989 - categorical_accuracy: 0.6266 - val_loss: 0.7705 - val_categorical_accuracy: 0.6900\n",
      "\n",
      "Epoch 00022: saving model to model_init_2021-03-0722_23_02.408022/model-00022-0.85779-0.65385-0.77047-0.69000.h5\n",
      "Epoch 23/30\n",
      "14/14 [==============================] - 19s 1s/step - loss: 0.8250 - categorical_accuracy: 0.7218 - val_loss: 0.9448 - val_categorical_accuracy: 0.6200\n",
      "\n",
      "Epoch 00023: saving model to model_init_2021-03-0722_23_02.408022/model-00023-0.84512-0.69231-0.94478-0.62000.h5\n",
      "Epoch 24/30\n",
      "14/14 [==============================] - 20s 1s/step - loss: 0.6714 - categorical_accuracy: 0.7510 - val_loss: 0.8391 - val_categorical_accuracy: 0.6700\n",
      "\n",
      "Epoch 00024: saving model to model_init_2021-03-0722_23_02.408022/model-00024-0.72125-0.72527-0.83907-0.67000.h5\n",
      "\n",
      "Epoch 00024: ReduceLROnPlateau reducing learning rate to 0.0002500000118743628.\n",
      "Epoch 25/30\n",
      "14/14 [==============================] - 18s 1s/step - loss: 0.7114 - categorical_accuracy: 0.7597 - val_loss: 0.9097 - val_categorical_accuracy: 0.6800\n",
      "\n",
      "Epoch 00025: saving model to model_init_2021-03-0722_23_02.408022/model-00025-0.69469-0.77473-0.90974-0.68000.h5\n",
      "Epoch 26/30\n",
      "14/14 [==============================] - 19s 1s/step - loss: 0.5884 - categorical_accuracy: 0.8119 - val_loss: 0.7688 - val_categorical_accuracy: 0.7200\n",
      "\n",
      "Epoch 00026: saving model to model_init_2021-03-0722_23_02.408022/model-00026-0.61392-0.79670-0.76880-0.72000.h5\n",
      "Epoch 27/30\n",
      "14/14 [==============================] - 19s 1s/step - loss: 0.6521 - categorical_accuracy: 0.7671 - val_loss: 1.0174 - val_categorical_accuracy: 0.6200\n",
      "\n",
      "Epoch 00027: saving model to model_init_2021-03-0722_23_02.408022/model-00027-0.57922-0.79670-1.01737-0.62000.h5\n",
      "Epoch 28/30\n",
      "14/14 [==============================] - 19s 1s/step - loss: 0.6804 - categorical_accuracy: 0.7329 - val_loss: 1.0552 - val_categorical_accuracy: 0.6400\n",
      "\n",
      "Epoch 00028: saving model to model_init_2021-03-0722_23_02.408022/model-00028-0.67908-0.75275-1.05517-0.64000.h5\n",
      "\n",
      "Epoch 00028: ReduceLROnPlateau reducing learning rate to 0.0001250000059371814.\n",
      "Epoch 29/30\n",
      "14/14 [==============================] - 19s 1s/step - loss: 0.5011 - categorical_accuracy: 0.8049 - val_loss: 0.9339 - val_categorical_accuracy: 0.7000\n",
      "\n",
      "Epoch 00029: saving model to model_init_2021-03-0722_23_02.408022/model-00029-0.53704-0.79121-0.93395-0.70000.h5\n",
      "Epoch 30/30\n",
      "14/14 [==============================] - 19s 1s/step - loss: 0.5494 - categorical_accuracy: 0.7784 - val_loss: 0.7474 - val_categorical_accuracy: 0.7600\n",
      "\n",
      "Epoch 00030: saving model to model_init_2021-03-0722_23_02.408022/model-00030-0.57418-0.76923-0.74740-0.76000.h5\n"
     ]
    }
   ],
   "source": [
    "# Fit the model\n",
    "history = model_5.fit(train_generator, steps_per_epoch=steps_per_epoch, epochs=num_epochs, verbose=1, \n",
    "                    callbacks=callbacks_list, validation_data=val_generator, \n",
    "                    validation_steps=validation_steps, class_weight=None, workers=1, initial_epoch=0)"
   ]
  },
  {
   "cell_type": "code",
   "execution_count": 56,
   "metadata": {
    "id": "qiiO8xItggJj"
   },
   "outputs": [
    {
     "name": "stdout",
     "output_type": "stream",
     "text": [
      "Model: \"sequential_4\"\n",
      "_________________________________________________________________\n",
      "Layer (type)                 Output Shape              Param #   \n",
      "=================================================================\n",
      "time_distributed_7 (TimeDist (None, 15, 60, 60, 16)    448       \n",
      "_________________________________________________________________\n",
      "time_distributed_8 (TimeDist (None, 15, 30, 30, 16)    0         \n",
      "_________________________________________________________________\n",
      "time_distributed_9 (TimeDist (None, 15, 15, 15, 32)    4640      \n",
      "_________________________________________________________________\n",
      "time_distributed_10 (TimeDis (None, 15, 7, 7, 32)      0         \n",
      "_________________________________________________________________\n",
      "time_distributed_11 (TimeDis (None, 15, 4, 4, 64)      18496     \n",
      "_________________________________________________________________\n",
      "time_distributed_12 (TimeDis (None, 15, 2, 2, 64)      0         \n",
      "_________________________________________________________________\n",
      "dropout_6 (Dropout)          (None, 15, 2, 2, 64)      0         \n",
      "_________________________________________________________________\n",
      "time_distributed_13 (TimeDis (None, 15, 256)           0         \n",
      "_________________________________________________________________\n",
      "gru (GRU)                    (None, 128)               148224    \n",
      "_________________________________________________________________\n",
      "dense_10 (Dense)             (None, 128)               16512     \n",
      "_________________________________________________________________\n",
      "dropout_7 (Dropout)          (None, 128)               0         \n",
      "_________________________________________________________________\n",
      "dense_11 (Dense)             (None, 64)                8256      \n",
      "_________________________________________________________________\n",
      "dense_12 (Dense)             (None, 5)                 325       \n",
      "=================================================================\n",
      "Total params: 196,901\n",
      "Trainable params: 196,901\n",
      "Non-trainable params: 0\n",
      "_________________________________________________________________\n",
      "None\n"
     ]
    }
   ],
   "source": [
    "# Model summary\n",
    "print(model_5.summary())"
   ]
  },
  {
   "cell_type": "code",
   "execution_count": 57,
   "metadata": {
    "id": "wiC9YK87hBnh"
   },
   "outputs": [
    {
     "data": {
      "image/png": "[encoded data removed]",
      "text/plain": [
       "<Figure size 576x576 with 2 Axes>"
      ]
     },
     "metadata": {
      "needs_background": "light"
     },
     "output_type": "display_data"
    }
   ],
   "source": [
    "# Visualize the Model\n",
    "acc = history.history['categorical_accuracy']\n",
    "val_acc = history.history['val_categorical_accuracy']\n",
    "\n",
    "loss = history.history['loss']\n",
    "val_loss = history.history['val_loss']\n",
    "\n",
    "epochs_range = range(num_epochs)\n",
    "\n",
    "plt.figure(figsize=(8, 8))\n",
    "plt.subplot(1, 2, 1)\n",
    "plt.plot(epochs_range, acc, label='Training Categorical Accuracy')\n",
    "plt.plot(epochs_range, val_acc, label='Validation Categorical Accuracy')\n",
    "plt.legend(loc='lower right')\n",
    "plt.title('Training and Validation Accuracy')\n",
    "\n",
    "plt.subplot(1, 2, 2)\n",
    "plt.plot(epochs_range, loss, label='Training Loss')\n",
    "plt.plot(epochs_range, val_loss, label='Validation Loss')\n",
    "plt.legend(loc='upper right')\n",
    "plt.title('Training and Validation Loss')\n",
    "plt.show()"
   ]
  },
  {
   "cell_type": "markdown",
   "metadata": {
    "id": "IhXfLfjZrCfu"
   },
   "source": [
    "# Model 6\n",
    "# Mobilenet + GRU"
   ]
  },
  {
   "cell_type": "code",
   "execution_count": 58,
   "metadata": {
    "id": "td6OGC_lq-cR"
   },
   "outputs": [
    {
     "name": "stdout",
     "output_type": "stream",
     "text": [
      "Downloading data from https://storage.googleapis.com/tensorflow/keras-applications/mobilenet/mobilenet_1_0_224_tf_no_top.h5\n",
      "17227776/17225924 [==============================] - 1s 0us/step\n"
     ]
    }
   ],
   "source": [
    "# Defining the model\n",
    "model_6 = Sequential()\n",
    "model_6.add(TimeDistributed(MobileNet(input_shape=(img_width,img_height,channel),include_top=False,weights=\"imagenet\"),input_shape=(30//img_select,img_width,img_height,channel)))\n",
    "model_6.add(TimeDistributed(Flatten()))\n",
    "model_6.add(GRU(128,activation='relu'))\n",
    "model_6.add(Dropout(0.25))\n",
    "model_6.add(Dense(128,activation='relu'))\n",
    "model_6.add(Dropout(0.25))\n",
    "model_6.add(Dense(64,activation='relu'))\n",
    "model_6.add(Dense(5,activation='softmax'))"
   ]
  },
  {
   "cell_type": "markdown",
   "metadata": {
    "id": "lbx2F77eoG4B"
   },
   "source": [
    "## Experiment 9\n",
    "#### Model = model_6\n",
    "#### Type = Mobilenet + GRU\n",
    "#### Optimizer = Adam\n",
    "#### num_epochs = 20\n",
    "#### batch_size = 50\n",
    "#### Generator = generator_crop_resize"
   ]
  },
  {
   "cell_type": "code",
   "execution_count": 59,
   "metadata": {
    "id": "Ldox4OWaoIuC"
   },
   "outputs": [],
   "source": [
    "# Defining variable\n",
    "num_epochs = 20\n",
    "batch_size = 50"
   ]
  },
  {
   "cell_type": "code",
   "execution_count": 60,
   "metadata": {
    "id": "LkUuiSn1oI4r"
   },
   "outputs": [],
   "source": [
    "train_generator = generator_crop_resize(train_path, train_doc, batch_size)\n",
    "val_generator = generator_crop_resize(val_path, val_doc, batch_size)"
   ]
  },
  {
   "cell_type": "code",
   "execution_count": 61,
   "metadata": {
    "id": "vRITxJpaoI-9"
   },
   "outputs": [],
   "source": [
    "# Compiling the model\n",
    "opt = keras.optimizers.Adam(learning_rate=lr)\n",
    "model_6.compile(optimizer=opt, loss='categorical_crossentropy', metrics=['categorical_accuracy'])"
   ]
  },
  {
   "cell_type": "code",
   "execution_count": 62,
   "metadata": {
    "id": "E3oxxQjSoJCU"
   },
   "outputs": [
    {
     "name": "stdout",
     "output_type": "stream",
     "text": [
      "Source path =  ../input/project1/Project_data/train ; batch size = 50\n",
      "Epoch 1/20\n",
      "14/14 [==============================] - ETA: 0s - loss: 2.1373 - categorical_accuracy: 0.2281Source path =  ../input/project1/Project_data/val ; batch size = 50\n",
      "14/14 [==============================] - 52s 4s/step - loss: 2.1186 - categorical_accuracy: 0.2328 - val_loss: 1.4986 - val_categorical_accuracy: 0.3800\n",
      "\n",
      "Epoch 00001: saving model to model_init_2021-03-0722_23_02.408022/model-00001-1.85712-0.29864-1.49858-0.38000.h5\n",
      "Epoch 2/20\n",
      "14/14 [==============================] - 21s 2s/step - loss: 1.1723 - categorical_accuracy: 0.5839 - val_loss: 1.4058 - val_categorical_accuracy: 0.4600\n",
      "\n",
      "Epoch 00002: saving model to model_init_2021-03-0722_23_02.408022/model-00002-1.12346-0.58242-1.40576-0.46000.h5\n",
      "Epoch 3/20\n",
      "14/14 [==============================] - 21s 2s/step - loss: 1.3506 - categorical_accuracy: 0.5194 - val_loss: 0.8209 - val_categorical_accuracy: 0.6600\n",
      "\n",
      "Epoch 00003: saving model to model_init_2021-03-0722_23_02.408022/model-00003-1.20894-0.54945-0.82091-0.66000.h5\n",
      "Epoch 4/20\n",
      "14/14 [==============================] - 20s 1s/step - loss: 1.1287 - categorical_accuracy: 0.5528 - val_loss: 0.8771 - val_categorical_accuracy: 0.6900\n",
      "\n",
      "Epoch 00004: saving model to model_init_2021-03-0722_23_02.408022/model-00004-1.10843-0.53297-0.87710-0.69000.h5\n",
      "Epoch 5/20\n",
      "14/14 [==============================] - 20s 1s/step - loss: 0.8869 - categorical_accuracy: 0.6260 - val_loss: 0.9027 - val_categorical_accuracy: 0.6500\n",
      "\n",
      "Epoch 00005: saving model to model_init_2021-03-0722_23_02.408022/model-00005-0.80664-0.67033-0.90268-0.65000.h5\n",
      "\n",
      "Epoch 00005: ReduceLROnPlateau reducing learning rate to 0.0005000000237487257.\n",
      "Epoch 6/20\n",
      "14/14 [==============================] - 20s 2s/step - loss: 0.8575 - categorical_accuracy: 0.6217 - val_loss: 0.5839 - val_categorical_accuracy: 0.7500\n",
      "\n",
      "Epoch 00006: saving model to model_init_2021-03-0722_23_02.408022/model-00006-0.86349-0.60989-0.58390-0.75000.h5\n",
      "Epoch 7/20\n",
      "14/14 [==============================] - 20s 2s/step - loss: 0.6628 - categorical_accuracy: 0.7101 - val_loss: 0.5435 - val_categorical_accuracy: 0.7900\n",
      "\n",
      "Epoch 00007: saving model to model_init_2021-03-0722_23_02.408022/model-00007-0.74619-0.72527-0.54355-0.79000.h5\n",
      "Epoch 8/20\n",
      "14/14 [==============================] - 21s 2s/step - loss: 0.8581 - categorical_accuracy: 0.6350 - val_loss: 0.4658 - val_categorical_accuracy: 0.8200\n",
      "\n",
      "Epoch 00008: saving model to model_init_2021-03-0722_23_02.408022/model-00008-0.75980-0.65385-0.46584-0.82000.h5\n",
      "Epoch 9/20\n",
      "14/14 [==============================] - 20s 2s/step - loss: 0.5270 - categorical_accuracy: 0.7306 - val_loss: 0.4642 - val_categorical_accuracy: 0.8000\n",
      "\n",
      "Epoch 00009: saving model to model_init_2021-03-0722_23_02.408022/model-00009-0.61603-0.74725-0.46421-0.80000.h5\n",
      "Epoch 10/20\n",
      "14/14 [==============================] - 20s 2s/step - loss: 0.6421 - categorical_accuracy: 0.7563 - val_loss: 0.6904 - val_categorical_accuracy: 0.7100\n",
      "\n",
      "Epoch 00010: saving model to model_init_2021-03-0722_23_02.408022/model-00010-0.70566-0.75275-0.69037-0.71000.h5\n",
      "Epoch 11/20\n",
      "14/14 [==============================] - 20s 1s/step - loss: 1.0121 - categorical_accuracy: 0.6856 - val_loss: 0.4803 - val_categorical_accuracy: 0.8000\n",
      "\n",
      "Epoch 00011: saving model to model_init_2021-03-0722_23_02.408022/model-00011-0.76487-0.76374-0.48030-0.80000.h5\n",
      "\n",
      "Epoch 00011: ReduceLROnPlateau reducing learning rate to 0.0002500000118743628.\n",
      "Epoch 12/20\n",
      "14/14 [==============================] - 20s 2s/step - loss: 0.5020 - categorical_accuracy: 0.7845 - val_loss: 0.4943 - val_categorical_accuracy: 0.8100\n",
      "\n",
      "Epoch 00012: saving model to model_init_2021-03-0722_23_02.408022/model-00012-0.51109-0.79121-0.49430-0.81000.h5\n",
      "Epoch 13/20\n",
      "14/14 [==============================] - 20s 2s/step - loss: 0.3869 - categorical_accuracy: 0.8588 - val_loss: 0.4220 - val_categorical_accuracy: 0.8200\n",
      "\n",
      "Epoch 00013: saving model to model_init_2021-03-0722_23_02.408022/model-00013-0.34077-0.87912-0.42202-0.82000.h5\n",
      "Epoch 14/20\n",
      "14/14 [==============================] - 20s 2s/step - loss: 0.4930 - categorical_accuracy: 0.8173 - val_loss: 0.4687 - val_categorical_accuracy: 0.7600\n",
      "\n",
      "Epoch 00014: saving model to model_init_2021-03-0722_23_02.408022/model-00014-0.52989-0.80220-0.46865-0.76000.h5\n",
      "Epoch 15/20\n",
      "14/14 [==============================] - 20s 2s/step - loss: 0.5334 - categorical_accuracy: 0.8508 - val_loss: 0.3665 - val_categorical_accuracy: 0.8100\n",
      "\n",
      "Epoch 00015: saving model to model_init_2021-03-0722_23_02.408022/model-00015-0.55310-0.82418-0.36648-0.81000.h5\n",
      "Epoch 16/20\n",
      "14/14 [==============================] - 20s 2s/step - loss: 0.3632 - categorical_accuracy: 0.8701 - val_loss: 0.3376 - val_categorical_accuracy: 0.8300\n",
      "\n",
      "Epoch 00016: saving model to model_init_2021-03-0722_23_02.408022/model-00016-0.33633-0.86813-0.33758-0.83000.h5\n",
      "Epoch 17/20\n",
      "14/14 [==============================] - 20s 1s/step - loss: 0.3472 - categorical_accuracy: 0.8356 - val_loss: 0.2971 - val_categorical_accuracy: 0.8200\n",
      "\n",
      "Epoch 00017: saving model to model_init_2021-03-0722_23_02.408022/model-00017-0.41034-0.82418-0.29711-0.82000.h5\n",
      "Epoch 18/20\n",
      "14/14 [==============================] - 21s 2s/step - loss: 0.3678 - categorical_accuracy: 0.8443 - val_loss: 0.2815 - val_categorical_accuracy: 0.8600\n",
      "\n",
      "Epoch 00018: saving model to model_init_2021-03-0722_23_02.408022/model-00018-0.32988-0.86264-0.28150-0.86000.h5\n",
      "Epoch 19/20\n",
      "14/14 [==============================] - 20s 2s/step - loss: 0.3613 - categorical_accuracy: 0.8811 - val_loss: 0.3034 - val_categorical_accuracy: 0.8800\n",
      "\n",
      "Epoch 00019: saving model to model_init_2021-03-0722_23_02.408022/model-00019-0.42694-0.89011-0.30344-0.88000.h5\n",
      "Epoch 20/20\n",
      "14/14 [==============================] - 20s 2s/step - loss: 0.3330 - categorical_accuracy: 0.8872 - val_loss: 0.3499 - val_categorical_accuracy: 0.8700\n",
      "\n",
      "Epoch 00020: saving model to model_init_2021-03-0722_23_02.408022/model-00020-0.39626-0.86813-0.34994-0.87000.h5\n",
      "\n",
      "Epoch 00020: ReduceLROnPlateau reducing learning rate to 0.0001250000059371814.\n"
     ]
    }
   ],
   "source": [
    "# Model fit\n",
    "history = model_6.fit(train_generator, steps_per_epoch=steps_per_epoch, epochs=num_epochs, verbose=1, \n",
    "                    callbacks=callbacks_list, validation_data=val_generator, \n",
    "                    validation_steps=validation_steps, class_weight=None, workers=1, initial_epoch=0)"
   ]
  },
  {
   "cell_type": "code",
   "execution_count": 63,
   "metadata": {
    "id": "l2DU3CTtoJJt"
   },
   "outputs": [
    {
     "name": "stdout",
     "output_type": "stream",
     "text": [
      "Model: \"sequential_5\"\n",
      "_________________________________________________________________\n",
      "Layer (type)                 Output Shape              Param #   \n",
      "=================================================================\n",
      "time_distributed_14 (TimeDis (None, 15, 3, 3, 1024)    3228864   \n",
      "_________________________________________________________________\n",
      "time_distributed_15 (TimeDis (None, 15, 9216)          0         \n",
      "_________________________________________________________________\n",
      "gru_1 (GRU)                  (None, 128)               3588864   \n",
      "_________________________________________________________________\n",
      "dropout_8 (Dropout)          (None, 128)               0         \n",
      "_________________________________________________________________\n",
      "dense_13 (Dense)             (None, 128)               16512     \n",
      "_________________________________________________________________\n",
      "dropout_9 (Dropout)          (None, 128)               0         \n",
      "_________________________________________________________________\n",
      "dense_14 (Dense)             (None, 64)                8256      \n",
      "_________________________________________________________________\n",
      "dense_15 (Dense)             (None, 5)                 325       \n",
      "=================================================================\n",
      "Total params: 6,842,821\n",
      "Trainable params: 6,820,933\n",
      "Non-trainable params: 21,888\n",
      "_________________________________________________________________\n",
      "None\n"
     ]
    }
   ],
   "source": [
    "# Model summary\n",
    "print(model_6.summary())"
   ]
  },
  {
   "cell_type": "markdown",
   "metadata": {},
   "source": [
    "## The final model choosen is as follows:\n",
    "### model-00019-0.42694-0.89011-0.30344-0.88000.h5\n",
    "### Experiment Number 9\n",
    "### Epoch Number 19 \n",
    "### Categorical Accuracy = 89.01% \n",
    "### VAL Categorical Accuracy = 88%"
   ]
  }
 ],
 "metadata": {
  "kernelspec": {
   "display_name": "Python 3",
   "language": "python",
   "name": "python3"
  },
  "language_info": {
   "codemirror_mode": {
    "name": "ipython",
    "version": 3
   },
   "file_extension": ".py",
   "mimetype": "text/x-python",
   "name": "python",
   "nbconvert_exporter": "python",
   "pygments_lexer": "ipython3",
   "version": "3.8.5"
  }
 },
 "nbformat": 4,
 "nbformat_minor": 4
}
